{
 "cells": [
  {
   "cell_type": "code",
   "execution_count": 4,
   "metadata": {},
   "outputs": [
    {
     "name": "stdout",
     "output_type": "stream",
     "text": [
      "Prod1: \n",
      " [[ 0.8   0.   -0.6 ]\n",
      " [-0.36  0.8  -0.48]\n",
      " [ 0.48  0.6   0.64]]\n",
      "Prod2: \n",
      " [[ 0.8  -0.36 -0.48]\n",
      " [ 0.    0.8  -0.6 ]\n",
      " [ 0.6   0.48  0.64]]\n"
     ]
    }
   ],
   "source": [
    "import numpy as np\n",
    "import matplotlib.pyplot as plt\n",
    "\n",
    "c,s = 0.8, 0.6\n",
    "\n",
    "r0 = np.array([[1, 0,0],[0, c, -s], [0, s, c]])\n",
    "r1 = np.array([[c, 0,-s],[0, 1, 0], [s, 0, c]])\n",
    "\n",
    "prod1 = r0 @ r1\n",
    "prod2 = r1 @ r0\n",
    "\n",
    "print(\"Prod1: \\n\", prod1)\n",
    "print(\"Prod2: \\n\",prod2)"
   ]
  }
 ],
 "metadata": {
  "interpreter": {
   "hash": "aee8b7b246df8f9039afb4144a1f6fd8d2ca17a180786b69acc140d282b71a49"
  },
  "kernelspec": {
   "display_name": "Python 3.9.10 64-bit",
   "language": "python",
   "name": "python3"
  },
  "language_info": {
   "codemirror_mode": {
    "name": "ipython",
    "version": 3
   },
   "file_extension": ".py",
   "mimetype": "text/x-python",
   "name": "python",
   "nbconvert_exporter": "python",
   "pygments_lexer": "ipython3",
   "version": "3.9.10"
  },
  "orig_nbformat": 4
 },
 "nbformat": 4,
 "nbformat_minor": 2
}
