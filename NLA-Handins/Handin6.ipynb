{
 "cells": [
  {
   "cell_type": "markdown",
   "metadata": {},
   "source": [
    "\\author{Christian Amstrup Petersen}\n",
    "By Christian Amstrup Petersen,\n",
    "Student number: 202104742\n",
    "\\appendix"
   ]
  },
  {
   "cell_type": "markdown",
   "metadata": {},
   "source": [
    "\\section{The $sin$-collection}\n",
    "We start out with the space of differentiable functions $f: [0, \\pi] \\rightarrow \\mathbb{R}$, with the $L^2$-inner product:\n",
    "$$\\langle f,g \\rangle = \\int_{0}^{\\pi} f(x)g(x)dx$$\n",
    "\n",
    "We're given the following set of functions, where $x=[0, \\pi]$:\n",
    "$$sin(x),sin(2x),...,sin((k-1)x)$$"
   ]
  },
  {
   "cell_type": "markdown",
   "metadata": {},
   "source": [
    "Here we're asked to show that the collection above is orthogonal on the inner product.\n",
    "Taking inspiration from example 13.10 in the notes, we have:\n",
    "$$\\langle sin(mx),sin(nx) \\rangle = \\int_0^{\\pi} sin(mx)sin(nx)dx,$$\n",
    "where $m \\neq n$ and $m,n \\in \\mathbb{N}$.\n",
    "Using the identities in 9.11, we get:\n",
    "$$= \\frac12\\int_0^{\\pi} -cos((m+n)x)+cos((m-n)x)dx$$\n",
    "$$= \\frac12 \\left[\\frac{-1}{m+n}sin((m+n)x)+\\frac{1}{m-n}sin((m-n)x)\\right]_0^{\\pi}$$\n",
    "$$ = \\frac12\\Bigg(\\left(\\frac{-1}{m+n}sin((m+n)\\pi)+\\frac{1}{m-n}sin((m-n)\\pi)\\right)-\\left(\\frac{-1}{m+n}sin((m+n)0)+\\frac{1}{m-n}sin((m-n)0)\\right)\\Bigg)$$\n",
    "$$ = \\frac12\\Bigg(\\left(\\frac{0}{m+n}+\\frac{0}{m-n}\\right)-\\left(\\frac{0}{m+n}+\\frac{0}{m-n}\\right)\\Bigg)$$\n",
    "$$=0 \\Rightarrow sin(\\alpha x) \\text{ is an orthogonal collection, where } \\{~\\alpha \\in \\mathbb{N}~|~ \\alpha > 0~\\}.$$\n",
    "For cases where $m = n$ the result will be $\\frac{\\pi}2$. This is due to $cos((m-n)x) = cos(0) = 1$, which remains when we integrate with $x = \\pi$, then multiply it by $\\frac12$. This result will be used later in this assignment."
   ]
  },
  {
   "cell_type": "markdown",
   "metadata": {},
   "source": [
    "\\section{Even and uneven}\n",
    "We're informed that $f(x) \\equiv 1$ is perpendicular (Yes, I had to look that up) on $sin(2x)$ and $sin(4x)$, but not on $sin(x)$ or $sin(3x)$, and asked to clarify, why this is. Firstly, using four cases is not enough for us, so we extend this to generalized terms:\n",
    "\n",
    "$$\\langle f , sin(\\alpha x) \\rangle= \\int_0^{\\pi} 1 \\cdot sin(\\alpha x), \\{~\\alpha \\in \\mathbb{N}~|~ \\alpha > 0~\\}$$\n",
    "$$= \\left[-\\frac1{\\alpha} cos(\\alpha x)\\right]_0^{\\pi}$$\n",
    "$$= \\left(-\\frac1{\\alpha}cos(\\alpha \\pi)\\right) - \\left(-\\frac1{\\alpha}cos(0)\\right)$$\n",
    "$$= \\left(-\\frac1{\\alpha}cos(\\alpha \\pi)\\right) + \\frac1{\\alpha}$$\n",
    "Using our knowledge of cosines, given a multiplum of $\\pi$, we get $\\pm 1$:\n",
    "$$cos(t \\pi) = (-1)^t$$\n",
    "Substituting with this in our calculations, we get:\n",
    "$$= \\frac{-1}{\\alpha}(-1)^{\\alpha} + \\frac1{\\alpha}$$\n",
    "$$= \\frac{(-1)^{\\alpha+1}}{\\alpha} + \\frac1{\\alpha}$$\n",
    "We see here, that should $\\alpha$ be even, the equation results in 0, and $\\frac2{\\alpha}$, should the number be uneven. "
   ]
  },
  {
   "cell_type": "markdown",
   "metadata": {},
   "source": [
    "\\section{The overkill}\n",
    "To stay in the mindset of generalized functions, we take the projection function that we know, and substitute with the results above, to make it useable with $sin(kx)$-functions, where $k > 0 \\land k \\in \\mathbb{N}$:\n",
    "$$pr_{sin(kx)}(1) = \\frac{\\left(\\frac{(-1)^{k+1}}{k}+\\frac1k \\right)}{\\pi/2} sin(kx)$$\n",
    "For the sake of more fun, we can refactor this formula to:\n",
    "$$pr_{sin(kx)}(1) = \\frac{4\\cdot (k ~mod~2)}{k\\pi} sin(kx)$$\n",
    "**Quick note: This is purely for the sake of 'fun with mathematics', and completely overkill for the use on only $sin(x)$ and $sin(3x)$."
   ]
  },
  {
   "cell_type": "markdown",
   "metadata": {},
   "source": [
    "Our actual use of this is takes the formula 13.3 in the notes (due to our collection being orthogonal), and we setup the following:\n",
    "$$pr_{sin(x),sin(3x)}(1) = \\frac{\\langle 1, sin(x)\\rangle}{||sin(x)||^2_2}sin(x)+\\frac{\\langle 1, sin(3x)\\rangle}{||sin(3x)||^2_2}sin(3x)$$ \n",
    "Here we use our knowledge that the multiplier $k$ in $sin(kx)$, is uneven, with 1 and 3, so we get: \n",
    "$$ = \\frac{2/1}{\\pi/2}sin(x)+\\frac{2/3}{\\pi/2}sin(3x)$$\n",
    "$$ = \\frac{4}{\\pi}sin(x)+\\frac{4}{3\\pi}sin(3x)$$ "
   ]
  },
  {
   "cell_type": "markdown",
   "metadata": {},
   "source": [
    "From this point, we want to end up with a function, that is perpendicular on $sin(x)$ and $sin(3x)$, in the form of:\n",
    "$$1+c_1sin(x)+c_3sin(3x)$$\n",
    "If we take a look in the notes, we notice just below figure 8.1, that $u - pr_v(u)$, is perpendicular on $v$. If we apply this logic to our formula, we get that\n",
    "$$1-\\left(\\frac{4}{\\pi}sin(x)+\\frac{4}{3\\pi}sin(3x)\\right) \\text{ is perpendicular on } sin(x) \\text{ and } sin(3x)$$"
   ]
  },
  {
   "cell_type": "markdown",
   "metadata": {},
   "source": [
    "Now we want to do this for $sin(2x)$ and $sin(4x)$ (The remaining functions in the $sin(kx)$ with k = 5), which means that we have to prove the following:\n",
    "$$\\langle 1 - \\frac{4}{\\pi}\\sin(x) + \\frac{4}{3\\pi} \\sin(3x), \\sin(kx)\\rangle = 0, ~ \\text{for }k \\in \\{2,4\\}$$"
   ]
  },
  {
   "cell_type": "markdown",
   "metadata": {},
   "source": [
    "If we apply the definitions from 13.1 in the notes, we get:\n",
    "$$\\langle1, \\sin(kx) \\rangle - \\frac{4}{\\pi}\\langle \\sin(x), \\sin(kx)\\rangle - \\frac{4}{3\\pi}\\langle \\sin(3x), \\sin(kx)\\rangle = 0$$\n",
    "From here, we simply reuse our knowledge, gained in this assignment. For the second and third part, of the equation, we know that this is 0 and 0, based on assignment $a$:\n",
    "$$\\langle1, \\sin(kx) \\rangle - \\frac{4}{\\pi}0 - \\frac{4}{3\\pi}0 = 0$$\n",
    "For the left side, we already know that if $n$ is even, which it is, the inner-product then results in 0:\n",
    "$$0 - \\frac{4}{\\pi}0 - \\frac{4}{3\\pi}0 = 0$$\n",
    "$$0 = 0$$"
   ]
  },
  {
   "cell_type": "markdown",
   "metadata": {},
   "source": [
    "\\section{Actual python?}\n",
    "In this part of the assigment, we turn our nose to python, to help us with an approximation of:\n",
    "$$f(x) = 1-e^{-x} ~~ \\text{ for } 0 \\leq x \\leq \\pi.$$\n",
    "Our answer includes elements from chapter 13.2, and 13.3, from the notes. The formula 13.4 is used as a base for this code: "
   ]
  },
  {
   "cell_type": "code",
   "execution_count": 5,
   "metadata": {},
   "outputs": [
    {
     "data": {
      "text/plain": [
       "[<matplotlib.lines.Line2D at 0x1155f0cd0>]"
      ]
     },
     "execution_count": 5,
     "metadata": {},
     "output_type": "execute_result"
    },
    {
     "data": {
      "image/png": "[encoded data removed]",
      "text/plain": [
       "<Figure size 720x907.2 with 1 Axes>"
      ]
     },
     "metadata": {
      "needs_background": "light"
     },
     "output_type": "display_data"
    }
   ],
   "source": [
    "import numpy as np\n",
    "import matplotlib.pyplot as plt\n",
    "\n",
    "# Variables to adjust grid size\n",
    "gridWidth = 10\n",
    "gridHeight = gridWidth*1.26\n",
    "\n",
    "x, h = np.linspace(0, np.pi, 100, retstep=True)\n",
    "\n",
    "# Returns the vector sin(m*x)\n",
    "def sinGen(lin, m = 1):\n",
    "    return np.vectorize(lambda k: (np.sin(m*k)))(x)\n",
    "\n",
    "# Creating the vector of sin(x)\n",
    "base = sinGen(np.ones_like(x))\n",
    "\n",
    "# Shorthand syntax for the function f\n",
    "f = lambda x: 1-(np.e**-x)\n",
    "\n",
    "# Calculating the inner product of the given f-function, over given space, with the given vector g\n",
    "def inner_product(f, g, x):\n",
    "    return np.dot(np.vectorize(f)(x), g)\n",
    "\n",
    "# Calculating the projection of f, onto the span of {sin(x), sin(2x), ... , sin((k-1)x)}\n",
    "def proj(f, k, x):\n",
    "    out = (inner_product(f, base, x)/ np.dot(base, base) * base)\n",
    "    for m in range(2, k):\n",
    "        out += (inner_product(f, sinGen(x, m), x)/ np.dot(np.sin(m*x), np.sin(m*x)) * np.sin(m*x))\n",
    "    return out\n",
    "\n",
    "# Plotting the approximation, with the origional function f\n",
    "fig, ax = plt.subplots(figsize=(gridWidth,gridHeight))\n",
    "ax.set_aspect('equal')\n",
    "plt.grid()\n",
    "ax.plot(x, f(x))\n",
    "ax.plot(x, proj(f, 5, x))\n"
   ]
  }
 ],
 "metadata": {
  "interpreter": {
   "hash": "aee8b7b246df8f9039afb4144a1f6fd8d2ca17a180786b69acc140d282b71a49"
  },
  "kernelspec": {
   "display_name": "Python 3.9.10 64-bit",
   "language": "python",
   "name": "python3"
  },
  "language_info": {
   "codemirror_mode": {
    "name": "ipython",
    "version": 3
   },
   "file_extension": ".py",
   "mimetype": "text/x-python",
   "name": "python",
   "nbconvert_exporter": "python",
   "pygments_lexer": "ipython3",
   "version": "3.9.10"
  },
  "orig_nbformat": 4
 },
 "nbformat": 4,
 "nbformat_minor": 2
}
