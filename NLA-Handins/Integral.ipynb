{
 "cells": [
  {
   "cell_type": "code",
   "execution_count": 10,
   "metadata": {},
   "outputs": [
    {
     "name": "stdout",
     "output_type": "stream",
     "text": [
      "-2.0341291076932198e-13\n"
     ]
    }
   ],
   "source": [
    "import numpy as np\n",
    "\n",
    "n = 100000\n",
    "\n",
    "x = np.linspace(0, np.pi, n)\n",
    "\n",
    "sinVec = np.vectorize(lambda x, m: np.sin(m*x))\n",
    "\n",
    "print(np.dot(sinVec(x,2), sinVec(x,3)))"
   ]
  }
 ],
 "metadata": {
  "interpreter": {
   "hash": "d1ab5e808d4ff6d944580350e97c5b66c8cfeb65457b316855c740a1e5f2f3d6"
  },
  "kernelspec": {
   "display_name": "Python 3.8.5 32-bit",
   "language": "python",
   "name": "python3"
  },
  "language_info": {
   "codemirror_mode": {
    "name": "ipython",
    "version": 3
   },
   "file_extension": ".py",
   "mimetype": "text/x-python",
   "name": "python",
   "nbconvert_exporter": "python",
   "pygments_lexer": "ipython3",
   "version": "3.10.4"
  },
  "orig_nbformat": 4
 },
 "nbformat": 4,
 "nbformat_minor": 2
}
