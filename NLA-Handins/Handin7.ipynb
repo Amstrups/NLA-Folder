{
 "cells": [
  {
   "cell_type": "markdown",
   "metadata": {},
   "source": [
    "\\author{Christian Amstrup Petersen}\n",
    "By Christian Amstrup Petersen,\n",
    "Student number: 202104742\n",
    "\\appendix"
   ]
  },
  {
   "cell_type": "code",
   "execution_count": 1,
   "metadata": {},
   "outputs": [],
   "source": [
    "import numpy as np\n",
    "import matplotlib.pyplot as plt\n",
    "\n",
    "def prepareForHeatmapAndPlot(A):\n",
    "    AHeat = np.zeros((20,30))\n",
    "\n",
    "    for h in range(600):\n",
    "        xC = h % 30 \n",
    "        yC = int(np.floor( h / 30 ))\n",
    "        AHeat[yC][xC] = A[h]\n",
    "\n",
    "    fig, ax = plt.subplots()\n",
    "    hm = ax.matshow(AHeat, cmap='Reds')\n",
    "    fig.colorbar(hm)"
   ]
  },
  {
   "cell_type": "markdown",
   "metadata": {},
   "source": [
    "We are given a piece of land to work with, specificly a 20 m $\\times$ 30 m parking lot. We're told that the lot is illuminated by several lamps, placed around the lot, at different heights. The lot is divided into 600 squares, each measuring 1 m $\\times$ 1 m. For any given square $j$, the denote the illumination level of that with $y_j$ for $j = 0,...,599$. We denote the power of light, for a given lamp $i$, by $x_i$. We can then measure the light supplied by lamp $i$, in a given square $j$, with: $x_i/d^2_{ij}$, with $d_{ij}$ denoting the distance from $i$ to the center of $j$ in $\\mathbb{R}^3$. \\\\\n",
    "From this we can contruct the following list of formulas, for use in this assignment: \\\\ \n",
    "The base formula:\n",
    "$$y_j = \\frac{x_i}{d_{i,j}^2}$$\n",
    "The total amount, for any given square:\n",
    "$$y_j = \\frac{x_0}{d_{0,j}^2} +\\dots +\\frac{x_{11}}{d_{11,j}^2}$$\n",
    "And the total illumination, for all squares are then:\n",
    "\\begin{align*}\n",
    "y_0 = \\frac{x_0}{d_{0,0}^2} +&\\dots +\\frac{x_{11}}{d_{11,0}^2}\\\\\n",
    "&⋮\\\\\n",
    "y_{599} = \\frac{x_0}{d_{0,599}^2} +&\\dots +\\frac{x_{11}}{d_{11,599}^2}\\\\\n",
    "\\end{align*}\n",
    "\n"
   ]
  },
  {
   "cell_type": "markdown",
   "metadata": {},
   "source": [
    "\\section{The relation}\n"
   ]
  },
  {
   "cell_type": "code",
   "execution_count": 2,
   "metadata": {},
   "outputs": [
    {
     "name": "stdout",
     "output_type": "stream",
     "text": [
      "Shape of A:  (600, 12)\n",
      "[[0.05714286 0.00551086 0.00275103 ... 0.00142755 0.00110505 0.00119039]\n",
      " [0.06451613 0.0056993  0.0027972  ... 0.00152788 0.00116967 0.00127217]\n",
      " [0.06451613 0.00583226 0.00282885 ... 0.001638   0.00123925 0.00136229]\n",
      " ...\n",
      " [0.00107354 0.0016462  0.00178094 ... 0.01183432 0.03455425 0.00819269]\n",
      " [0.00101678 0.00152565 0.00164069 ... 0.01081081 0.03035823 0.00819269]\n",
      " [0.00096386 0.00141751 0.0015163  ... 0.0097561  0.02568053 0.00806062]]\n"
     ]
    }
   ],
   "source": [
    "x = np.array([\n",
    "    (2, 3, 3.), \n",
    "    (4, 13, 3.6), \n",
    "    (4, 19, 3.), \n",
    "    (11, 5, 3.5), \n",
    "    (12, 13, 4.), \n",
    "    (13, 18, 3.6), \n",
    "    (15, 2, 4.5), \n",
    "    (16, 17, 3.), \n",
    "    (20, 4, 2.8), \n",
    "    (24, 12, 4.0), \n",
    "    (26, 16, 3.8), \n",
    "    (28, 9, 3.4)\n",
    "])\n",
    "A = np.empty((600,12))\n",
    "\n",
    "for k in range(600):\n",
    "    xCor = ( k % 30 ) + 0.5\n",
    "    yCor = np.floor( k / 30 ) + 0.5\n",
    "    zCor = 0\n",
    "    for l in range(12):\n",
    "        d_ij = x[l] - np.array([xCor, yCor, zCor])\n",
    "        distSquared = np.vdot(d_ij, d_ij)\n",
    "        A[k, l] = 1 / (distSquared)\n",
    "print(\"Shape of A: \", A.shape)\n",
    "print(A)"
   ]
  },
  {
   "cell_type": "markdown",
   "metadata": {},
   "source": [
    "\\section{Heat plot}"
   ]
  },
  {
   "cell_type": "code",
   "execution_count": 3,
   "metadata": {},
   "outputs": [
    {
     "data": {
      "image/png": "[encoded data removed]",
      "text/plain": [
       "<Figure size 432x288 with 2 Axes>"
      ]
     },
     "metadata": {
      "needs_background": "light"
     },
     "output_type": "display_data"
    }
   ],
   "source": [
    "xi = np.empty((12, 1))\n",
    "xi.fill(20)\n",
    "\n",
    "prepareForHeatmapAndPlot(A @ xi) "
   ]
  },
  {
   "cell_type": "markdown",
   "metadata": {},
   "source": [
    "\\section{The smallest squares}\n"
   ]
  },
  {
   "cell_type": "code",
   "execution_count": 4,
   "metadata": {},
   "outputs": [
    {
     "name": "stdout",
     "output_type": "stream",
     "text": [
      "Estimated lightlevels, using QR-decompression: \n",
      " [[ 9.60745799]\n",
      " [ 9.70985021]\n",
      " [ 6.66057705]\n",
      " [ 5.89838105]\n",
      " [ 5.43362216]\n",
      " [ 4.33070806]\n",
      " [11.03932138]\n",
      " [ 4.71068834]\n",
      " [ 5.79790553]\n",
      " [ 2.50817097]\n",
      " [12.37719594]\n",
      " [10.19220549]]\n"
     ]
    }
   ],
   "source": [
    "def improved_gram_schmidt(a): \n",
    "    _, k = a.shape\n",
    "    q = np.copy(a)\n",
    "    r = np.zeros((k, k)) \n",
    "    for i in range(k):\n",
    "        r[i, i] = np.linalg.norm(q[:, i])\n",
    "        q[:, i] /= r[i,i]\n",
    "        r[[i], i+1:] = q[:, [i]].T @ q[:, i+1:]\n",
    "        q[:, i+1:] -= q[:, [i]] @ r[[i], i+1:]\n",
    "    return q, r\n",
    "\n",
    "def back_subs(r, c): \n",
    "    n, _ = r.shape\n",
    "    x = np.empty((n, 1))\n",
    "    for i in reversed(range(n)):\n",
    "        x[i] = (c[i] - r[[i], i+1:] @ x[i+1:]) / r[i, i] \n",
    "    return x\n",
    "\n",
    "b = np.ones((600, 1))\n",
    "\n",
    "q, r = improved_gram_schmidt(A)\n",
    "x_qr_fgs = back_subs(r, q.T @ b)\n",
    "\n",
    "print(\"Estimated lightlevels, using QR-decompression: \\n\", x_qr_fgs)"
   ]
  },
  {
   "cell_type": "code",
   "execution_count": 5,
   "metadata": {},
   "outputs": [
    {
     "name": "stdout",
     "output_type": "stream",
     "text": [
      "[[ 9.60745799]\n",
      " [ 9.70985021]\n",
      " [ 6.66057705]\n",
      " [ 5.89838105]\n",
      " [ 5.43362216]\n",
      " [ 4.33070806]\n",
      " [11.03932138]\n",
      " [ 4.71068834]\n",
      " [ 5.79790553]\n",
      " [ 2.50817097]\n",
      " [12.37719594]\n",
      " [10.19220549]]\n"
     ]
    }
   ],
   "source": [
    "u, s, vt = np.linalg.svd(A, full_matrices=False)\n",
    "\n",
    "sigma_inv = np.diag(1/s)\n",
    "\n",
    "svd_x = vt.T @ sigma_inv @ u.T @ b\n",
    "\n",
    "print(svd_x)\n"
   ]
  },
  {
   "cell_type": "markdown",
   "metadata": {},
   "source": [
    "\\section{Heat plot 2: Electric boogaloo}"
   ]
  },
  {
   "cell_type": "code",
   "execution_count": 6,
   "metadata": {},
   "outputs": [
    {
     "data": {
      "image/png": "[encoded data removed]",
      "text/plain": [
       "<Figure size 432x288 with 2 Axes>"
      ]
     },
     "metadata": {
      "needs_background": "light"
     },
     "output_type": "display_data"
    },
    {
     "data": {
      "image/png": "[encoded data removed]",
      "text/plain": [
       "<Figure size 432x288 with 2 Axes>"
      ]
     },
     "metadata": {
      "needs_background": "light"
     },
     "output_type": "display_data"
    }
   ],
   "source": [
    "prepareForHeatmapAndPlot(A @ x_qr_fgs)\n",
    "\n",
    "prepareForHeatmapAndPlot(A @ svd_x)"
   ]
  },
  {
   "cell_type": "markdown",
   "metadata": {},
   "source": [
    "# c) Lav en heatplot af resultaterne fra del c)\n",
    "Har vi gjort, ved ikke helt om det er fint nok.\n",
    "\n",
    "## hvad er den maximale afvigelse fra 1.0\n",
    "Man kan bruge et forloop.\n",
    "- Man kan m"
   ]
  },
  {
   "cell_type": "code",
   "execution_count": 7,
   "metadata": {},
   "outputs": [
    {
     "data": {
      "image/png": "[encoded data removed]",
      "text/plain": [
       "<Figure size 432x288 with 2 Axes>"
      ]
     },
     "metadata": {
      "needs_background": "light"
     },
     "output_type": "display_data"
    },
    {
     "data": {
      "image/png": "[encoded data removed]",
      "text/plain": [
       "<Figure size 432x288 with 2 Axes>"
      ]
     },
     "metadata": {
      "needs_background": "light"
     },
     "output_type": "display_data"
    }
   ],
   "source": [
    "y_QR_dif = np.abs(( A @ x_qr_fgs ) - b)\n",
    "y_SVD_dif = np.abs(( A @ svd_x ) - b)\n",
    "\n",
    "prepareForHeatmapAndPlot(y_QR_dif)\n",
    "prepareForHeatmapAndPlot(y_SVD_dif)\n",
    "\n",
    "# The higher grade red, the bigger the difference from the wanted amount of light \n"
   ]
  },
  {
   "cell_type": "code",
   "execution_count": 8,
   "metadata": {},
   "outputs": [
    {
     "name": "stdout",
     "output_type": "stream",
     "text": [
      "Max difference, using QR:  0.6456414557075378\n",
      "Max difference, using SVD:  0.6456414557075381\n"
     ]
    }
   ],
   "source": [
    "print(\"Max difference, using QR: \", np.max(y_QR_dif))\n",
    "print(\"Max difference, using SVD: \", np.max(y_SVD_dif))"
   ]
  },
  {
   "cell_type": "code",
   "execution_count": 9,
   "metadata": {},
   "outputs": [
    {
     "name": "stdout",
     "output_type": "stream",
     "text": [
      "5.401235014801387e-13\n",
      "82.87128492903479\n",
      "82.8712849290348\n"
     ]
    }
   ],
   "source": [
    "# Biggest difference in methods:\n",
    "y_QR_sum = np.sum(y_QR_dif)\n",
    "y_SVD_sum = np.sum(y_SVD_dif)\n",
    "\n",
    "print(np.sum(np.abs(y_QR_dif - y_SVD_dif)))\n",
    "print(y_QR_sum)\n",
    "print(y_SVD_sum)"
   ]
  }
 ],
 "metadata": {
  "interpreter": {
   "hash": "aee8b7b246df8f9039afb4144a1f6fd8d2ca17a180786b69acc140d282b71a49"
  },
  "kernelspec": {
   "display_name": "Python 3.9.10 64-bit",
   "language": "python",
   "name": "python3"
  },
  "language_info": {
   "codemirror_mode": {
    "name": "ipython",
    "version": 3
   },
   "file_extension": ".py",
   "mimetype": "text/x-python",
   "name": "python",
   "nbconvert_exporter": "python",
   "pygments_lexer": "ipython3",
   "version": "3.9.10"
  },
  "orig_nbformat": 4
 },
 "nbformat": 4,
 "nbformat_minor": 2
}
