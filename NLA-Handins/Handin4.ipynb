{
 "cells": [
  {
   "cell_type": "markdown",
   "metadata": {},
   "source": [
    "\\author{Christian Amstrup Petersen}\n",
    "By Christian Amstrup Petersen,\n",
    "Student number: 202104742\n",
    "\\appendix\n"
   ]
  },
  {
   "cell_type": "code",
   "execution_count": 25,
   "metadata": {},
   "outputs": [],
   "source": [
    "import numpy as np\n",
    "\n",
    "# Resuable functions and variables\n",
    "\n",
    "# Makes prints of vectors/matrices abit prettier [Purely for aestetics]. Include name in print if wanted.\n",
    "def vprint(matrix, name = None):\n",
    "    if matrix.shape == (4,4):\n",
    "        print(matrix[2][2])\n",
    "    pName =  \"\" if (name == None) else f\"{name}\"\n",
    "    if matrix.shape[1] > 1:\n",
    "        print(f\"Matrix {pName}of shape {matrix.shape[0]}x{matrix.shape[1]}:\")\n",
    "    else: \n",
    "        print(f\"Vector {pName}of {matrix.shape[0]} dimensions:\")\n",
    "    for i in range(matrix.shape[0]):\n",
    "        res = f\"\\t|  \"\n",
    "        for j in range(matrix.shape[1]):\n",
    "            res += (f\"[{matrix[i][j]}]\\t\").expandtabs(4)\n",
    "        print(res+\"|\")\n"
   ]
  },
  {
   "cell_type": "markdown",
   "metadata": {},
   "source": [
    "\\section{Gram and the orthogonal vectors}\n",
    "\n",
    "For this assignment we're given the following column matrices:\n",
    "\n",
    "$$v_0 = \\begin{bmatrix}1.0 \\\\ -1.0 \\\\ 1.0 \\\\ -1.0\\end{bmatrix}, v_1 = \\begin{bmatrix}1.0 \\\\ 1.0 \\\\ 1.0 \\\\ 1.0\\end{bmatrix}, v_2 = \\begin{bmatrix}2.0 \\\\ 0.0 \\\\ -2.0 \\\\ 0.0 \\end{bmatrix}$$\n",
    "\n",
    "Another thing essential to this assignment is the Grammatrix for three vectors:\n",
    "\n",
    "$$\n",
    "\\newcommand\\an[2]{\\langle #1\\,,#2 \\rangle}\n",
    "Grammatrix = \\begin{bmatrix}\\an{v_0}{v_0} && \\an{v_0}{v_1} && \\an{v_0}{v_2} \\\\ \\an{v_1}{v_0} && \\an{v_1}{v_1} && \\an{v_1}{v_2} \\\\ \\an{v_2}{v_0} && \\an{v_2}{v_1} && \\an{v_2}{v_2}\\end{bmatrix}$$"
   ]
  },
  {
   "cell_type": "code",
   "execution_count": 13,
   "metadata": {},
   "outputs": [
    {
     "name": "stdout",
     "output_type": "stream",
     "text": [
      "Matrix 'Grammatrix'of shape 3x3:\n",
      "\t|  [4.0]   [0.0]   [0.0]   |\n",
      "\t|  [0.0]   [4.0]   [0.0]   |\n",
      "\t|  [0.0]   [0.0]   [8.0]   |\n"
     ]
    }
   ],
   "source": [
    "# Produces a Gram matrix from the given vectors\n",
    "def gramMatrix(vectors):\n",
    "    # Assertion that the amount of vectors > 0\n",
    "    assert(len(vectors) > 0)\n",
    "\n",
    "    # Assertion that all given vectors are the same length\n",
    "    for v in vectors:\n",
    "        assert(len(vectors[0]) == len(v))\n",
    "    v = np.hstack(vectors)\n",
    "    return v.T @ v\n",
    "\n",
    "# Initializing v0, v1, v2 as column vectors\n",
    "v0 = np.array([1., -1., 1., -1.], dtype = float)[:, np.newaxis]\n",
    "v1 = np.array([1., 1., 1., 1.],dtype = float)[:, np.newaxis]\n",
    "v2 = np.array([2., 0., -2., 0.],dtype = float)[:, np.newaxis]\n",
    "\n",
    "# 'Pretty' printer for the Grammatrix\n",
    "vprint(gramMatrix([v0,v1,v2]), \"'Grammatrix'\")"
   ]
  },
  {
   "cell_type": "markdown",
   "metadata": {},
   "source": [
    "We know that if $\\langle u\\,,v \\rangle = 0$, then $u$ and $v$ are orthogonal. Given a set of vectors, that means, that if constructing a Grammatrix from this set, if the result is a diagonal matrix, then the set are orthogonal to each other. This is given by, that the inner product of a vector, with itself, can only be $=0$, if the vector is a zero-vector, and that if the inner product of two vectors are equal to zero, if the two vectors are orthogonal."
   ]
  },
  {
   "cell_type": "markdown",
   "metadata": {},
   "source": [
    "\\section{Projection}\n",
    "Here we want to calculate the projection of the vector x, given by:\n",
    "$$x = \\begin{bmatrix}3.0 \\\\ 2.0 \\\\ 1.0 \\\\ 0.0\\end{bmatrix},$$\n",
    "onto our $v_0$, $v_1$, and $v_2$. Here we use definition 8.19, with our u-vector (in this case x), multiplied onto $P$, so we get:\n",
    "$$\n",
    "\\newcommand\\an[2]{\\langle #1\\,,#2 \\rangle}\n",
    "Px = \\frac{\\an{v_0}{x}}{||v_0||_2^2}v_0+\\frac{\\an{v_1}{x}}{||v_1||_2^2}v_1+\\frac{\\an{v_2}{x}}{||v_2||_2^2}v_2\n",
    "$$\n",
    "This rewrite of the definiton is allowed due to:\n",
    "$$\\newcommand\\an[2]{\\langle #1\\,,#2 \\rangle}\n",
    "\\frac{1}{||v||_2^2}vv^Tu =\\frac{\\an{v}{u}}{||v||_2^2}v \n",
    "$$\n",
    "It's important to note that:\n",
    "$$ \\newcommand\\an[2]{\\langle #1\\,,#2 \\rangle}\n",
    "||v||_2^2 = \\an{v}{v}\n",
    "$$"
   ]
  },
  {
   "cell_type": "code",
   "execution_count": 41,
   "metadata": {},
   "outputs": [
    {
     "name": "stdout",
     "output_type": "stream",
     "text": [
      "Vector 'Px' of 4 dimensions:\n",
      "\t|  [3.0]   |\n",
      "\t|  [1.0]   |\n",
      "\t|  [1.0]   |\n",
      "\t|  [1.0]   |\n"
     ]
    }
   ],
   "source": [
    "def projection(u,v):\n",
    "    uv = np.vdot(u,v)\n",
    "    vv = np.vdot(v,v)\n",
    "    return (uv/vv) * v\n",
    "\n",
    "# Initializing x as column vector\n",
    "x = np.array([[3., 2., 1., 0.]],dtype = float).T\n",
    "\n",
    "pr_x = projection(x,v0) + projection(x,v1) + projection(x,v2)\n",
    "\n",
    "# 'Pretty' printer for pr_x\n",
    "vprint(pr_x, \"'Px' \")\n"
   ]
  },
  {
   "cell_type": "markdown",
   "metadata": {},
   "source": [
    "\\section{$x- Px$}\n",
    "For this part, we simply use the same operations, as in a), to determine whether or not they are orthogonal:"
   ]
  },
  {
   "cell_type": "code",
   "execution_count": 42,
   "metadata": {},
   "outputs": [
    {
     "name": "stdout",
     "output_type": "stream",
     "text": [
      "0.0\n",
      "0.0\n",
      "0.0\n"
     ]
    }
   ],
   "source": [
    "v3 = x - pr_x\n",
    "# Checking if all orthogonal on v3\n",
    "for v in [v0, v1, v2]:\n",
    "    print(np.vdot(v3, v))"
   ]
  },
  {
   "cell_type": "markdown",
   "metadata": {},
   "source": [
    "\\section{Orthonormal basis}\n",
    "Our main focus in this part of the assignment is the idea of 'orthonormal'. A vector is orthonormal if:\n",
    "$$\\langle v\\,,v \\rangle = 1$$"
   ]
  },
  {
   "cell_type": "code",
   "execution_count": 43,
   "metadata": {},
   "outputs": [
    {
     "name": "stdout",
     "output_type": "stream",
     "text": [
      "4.0\n",
      "4.0\n",
      "8.0\n",
      "2.0\n"
     ]
    }
   ],
   "source": [
    "for v in [v0, v1, v2, v3]:\n",
    "    print(np.vdot(v,v))"
   ]
  },
  {
   "cell_type": "markdown",
   "metadata": {},
   "source": [
    "We see here that our set are not orthonormal. We can convert these by doing the following:\n",
    "$$v_{norm} = \\frac{v}{||v||_2}$$"
   ]
  },
  {
   "cell_type": "code",
   "execution_count": 37,
   "metadata": {},
   "outputs": [],
   "source": [
    "v0norm = v0/np.linalg.norm(v0)\n",
    "v1norm = v1/np.linalg.norm(v1)\n",
    "v2norm = v2/np.linalg.norm(v2)\n",
    "v3norm = v3/np.linalg.norm(v3)"
   ]
  },
  {
   "cell_type": "markdown",
   "metadata": {},
   "source": [
    "According to Lemma 9.8, if we take the four normalized vectors above, and use them to calculate a new Grammatrix, and get a $I_4$-matrix, the we have a orthonormal basis for $\\mathbb{R}^4$:"
   ]
  },
  {
   "cell_type": "code",
   "execution_count": 44,
   "metadata": {},
   "outputs": [
    {
     "name": "stdout",
     "output_type": "stream",
     "text": [
      "[[1. 0. 0. 0.]\n",
      " [0. 1. 0. 0.]\n",
      " [0. 0. 1. 0.]\n",
      " [0. 0. 0. 1.]]\n"
     ]
    }
   ],
   "source": [
    "V = np.hstack((v0norm,v1norm,v2norm,v3norm))\n",
    "G = V.T @ V\n",
    "print(G)"
   ]
  }
 ],
 "metadata": {
  "interpreter": {
   "hash": "767d51c1340bd893661ea55ea3124f6de3c7a262a8b4abca0554b478b1e2ff90"
  },
  "kernelspec": {
   "display_name": "Python 2.7.16 64-bit",
   "language": "python",
   "name": "python3"
  },
  "language_info": {
   "codemirror_mode": {
    "name": "ipython",
    "version": 3
   },
   "file_extension": ".py",
   "mimetype": "text/x-python",
   "name": "python",
   "nbconvert_exporter": "python",
   "pygments_lexer": "ipython3",
   "version": "3.9.10"
  },
  "orig_nbformat": 4
 },
 "nbformat": 4,
 "nbformat_minor": 2
}
