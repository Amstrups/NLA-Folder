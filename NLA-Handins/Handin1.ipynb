{
 "cells": [
  {
   "cell_type": "markdown",
   "metadata": {},
   "source": [
    "By: Christian Amstrup Petersen.\n",
    "Student number: 202104742\n",
    "\\appendix\n",
    "\\newcommand\\m[1]{\\begin{bmatrix}#1\\end{bmatrix}} "
   ]
  },
  {
   "cell_type": "code",
   "execution_count": 14,
   "metadata": {},
   "outputs": [
    {
     "name": "stdout",
     "output_type": "stream",
     "text": [
      "[[ 2.55  2.05  0.4  -0.15]\n",
      " [ 6.    0.15 -1.25 -0.8 ]]\n"
     ]
    }
   ],
   "source": [
    "import numpy as np\n",
    "import matplotlib.pyplot as plt  \n",
    "import matplotlib as mpl\n",
    "mpl.rcParams['lines.marker'] = 'o'\n",
    "\n",
    "# Variables to adjust grid size\n",
    "gridWidth = 5\n",
    "gridHeight = gridWidth*1.26\n",
    "\n",
    "# Resuable functions and variables\n",
    "\n",
    "# Plots the given x- and y-coordinates\n",
    "def plot(x,y):\n",
    "    fig, ax = plt.subplots(figsize=(gridWidth,gridHeight))\n",
    "    plt.grid()\n",
    "    ax.plot(x,y)\n",
    "\n",
    "# Plots multiple figures in the same plot/grid. Used for comparisson between a modified, and non-modified figure.\n",
    "def plotMultiple(pointValuesList):\n",
    "    fig, ax = plt.subplots(figsize=(gridWidth,gridHeight))\n",
    "    plt.grid()\n",
    "    for values in pointValuesList:\n",
    "        ax.plot(values[0], values[1])\n",
    "\n",
    "# Returns a rotation matrix, equal to the specified theta in degrees\n",
    "def rotationMaxtrixByDegrees(degrees): \n",
    "    radians = np.radians(degrees)\n",
    "    c, s = np.cos(radians), np.sin(radians)\n",
    "    return np.array([[c, -s], [s, c]])\n",
    "\n",
    "# Preliminary setup of variables and values\n",
    "# Reasoning for the values below will be explained in question A\n",
    "a = np.array([[2.55],[6.0]])\n",
    "b = np.array([[2.05],[0.15]])\n",
    "c = np.array([[0.4],[-1.25]])\n",
    "d = np.array([[-0.15],[-0.8]])\n",
    "\n",
    "# Matrix based on the values of a, b, c and d, i.e. the robotarm.\n",
    "S = np.array([a,b,c,d]).transpose()[0]\n",
    "\n",
    "# Converts the given matrix of vectors, to points in the plane, and returns the x- and y- values of the given vectors\n",
    "# Function created due to multiple uses of the same logic\n",
    "def convertToPlotableValues(S):\n",
    "    # Inclusion of 0: [[0.0], [0.0]] into our value-array\n",
    "    x = np.array([0])\n",
    "    y = np.array([0])\n",
    "\n",
    "    # Cummulative sum of the values from the matrix S\n",
    "    S_sum = np.cumsum(S,1)\n",
    "\n",
    "    # Adding x- and y-values to arrays representing points in the plane\n",
    "    x = np.append(x, S_sum[0])\n",
    "    y = np.append(y, S_sum[1])\n",
    "    return x,y\n",
    "\n"
   ]
  },
  {
   "cell_type": "markdown",
   "metadata": {},
   "source": [
    "\\section{Plotting with chosen values}\n",
    "For this first part, we're told that a certain robotarm is made up of 4 parts, and consists of 4 bendable joints. For this question we're asked to pick sensible values, to represent the robot arm in a matrix, and plot these into 'matplotlib'. The values we've chosen can be seen in the code above. With these values we plot the matrix:"
   ]
  },
  {
   "cell_type": "code",
   "execution_count": 11,
   "metadata": {},
   "outputs": [
    {
     "data": {
      "image/png": "[encoded data removed]",
      "text/plain": [
       "<Figure size 360x453.6 with 1 Axes>"
      ]
     },
     "metadata": {
      "needs_background": "light"
     },
     "output_type": "display_data"
    }
   ],
   "source": [
    "x, y = convertToPlotableValues(S)\n",
    "plot(x,y)\n"
   ]
  },
  {
   "cell_type": "markdown",
   "metadata": {},
   "source": [
    "\\section{Vector $\\overrightarrow{OP}$}\n",
    "In this part we're asked to determine the vector $\\overrightarrow{OP}$, the vector from origo, to the point P, based on our values for the robotarm. This can be done by taking the sum of our x-values from S, and the sum of our y-values from S:"
   ]
  },
  {
   "cell_type": "code",
   "execution_count": 12,
   "metadata": {},
   "outputs": [
    {
     "name": "stdout",
     "output_type": "stream",
     "text": [
      "Vector OP: \n",
      " [[4.85]\n",
      " [4.1 ]]\n"
     ]
    }
   ],
   "source": [
    "OP_x = a[0] + b[0] + c[0] + d[0]\n",
    "OP_y = a[1] + b[1] + c[1] + d[1]\n",
    "OP = np.array([OP_x, OP_y])\n",
    "\n",
    "print(\"Vector OP: \\n\", OP)"
   ]
  },
  {
   "cell_type": "code",
   "execution_count": null,
   "metadata": {},
   "outputs": [],
   "source": []
  },
  {
   "cell_type": "markdown",
   "metadata": {},
   "source": [
    "\\section{Bend in C}\n",
    "Here we are introduced to the function:\n",
    "$$bend_c(S) = \\m{a|b|c|R_c d},$$\n",
    "where $R_c$ notates a rotation matrix.\n",
    "By multiplying a rotation matrix, with a vector, the vector rotates around origo. So a vector $\\m{2 \\\\ 2 }$, rotated $180^{\\circ}$, will result in:\n",
    "$$\\m{cos(\\pi) && -sin(\\pi) \\\\ sin(\\pi) && cos(\\pi)}\\m{2 \\\\ 2 } = \\m{-2 \\\\ -2 }$$\n",
    "This can be applied to this question, since we represents our robotarm ($S$) in sections of vectors, and not static points, and is drawn with the logic used in question A/the 'convertToPlotableValues'-function. It is important to note that this calculation will only be correct when used on $\\overrightarrow{CP}$. We will go into deeper details on why that is, in question D."
   ]
  },
  {
   "cell_type": "code",
   "execution_count": 13,
   "metadata": {},
   "outputs": [
    {
     "data": {
      "image/png": "[encoded data removed]",
      "text/plain": [
       "<Figure size 360x453.6 with 1 Axes>"
      ]
     },
     "metadata": {
      "needs_background": "light"
     },
     "output_type": "display_data"
    }
   ],
   "source": [
    "# New matrix to rotate on\n",
    "SRotateOnC = S.copy()\n",
    "\n",
    "# Creating rotation matrix\n",
    "rotationMatrix = rotationMaxtrixByDegrees(45)\n",
    "\n",
    "# Multiplying the rotation matrix, with the vector d\n",
    "rotatedByC = rotationMatrix @ d\n",
    "\n",
    "# Overwriting the previous vector d, with the rotated values\n",
    "SRotateOnC[0][3] = rotatedByC[0]\n",
    "SRotateOnC[1][3] = rotatedByC[1]\n",
    "\n",
    "# Converting the matrix SRotateOnC, to plotable x- and y-values\n",
    "xRot, yRot = convertToPlotableValues(SRotateOnC)\n",
    "\n",
    "# Plotting multiple vectors, to display differences. Orange: origional, blue: rotated on point C\n",
    "plotMultiple([[xRot, yRot], [x, y]])"
   ]
  },
  {
   "cell_type": "markdown",
   "metadata": {},
   "source": [
    "\\section{Bend in A}\n",
    "Similar to the question above, we here want to bend the robotarm by matrix-multiplication. \n",
    "This time we're aiming to rotate the arm in the point A. The process here is different to 'just' rotation in C, as when we want to keep the angles of the other points the same, and this requires us to actually manipulate all points 'down' the arm, from our rotation point. For question C, this required us to only rotate $d$, but here we will have to rotate $b$, $c$ and $d$, i.e. $\\overrightarrow{AP}$:\n",
    "$$bend_a(S) = \\m{a|R_a b|R_a c|R_a d}$$"
   ]
  },
  {
   "cell_type": "code",
   "execution_count": 16,
   "metadata": {},
   "outputs": [
    {
     "data": {
      "image/png": "[encoded data removed]",
      "text/plain": [
       "<Figure size 360x453.6 with 1 Axes>"
      ]
     },
     "metadata": {
      "needs_background": "light"
     },
     "output_type": "display_data"
    }
   ],
   "source": [
    "# Creating rotation matrix\n",
    "rotationMatrix = rotationMaxtrixByDegrees(45)\n",
    "\n",
    "# Rotating the 'affected' vertices by multiplying all entries after a, with the same rotation matrix\n",
    "bRot = rotationMatrix @ b\n",
    "cRot = rotationMatrix @ c\n",
    "dRot = rotationMatrix @ d\n",
    "\n",
    "# Creating new 'S' \n",
    "SRotationA = np.array([a, bRot, cRot, dRot]).transpose()[0]\n",
    "\n",
    "# Multiplying the rotation matrix, with the vector d\n",
    "rotatedByC = rotationMatrix @ d\n",
    "\n",
    "# Converting the matrix SRotateOnC, to plotable x- and y-values\n",
    "xRot, yRot = convertToPlotableValues(SRotationA)\n",
    "\n",
    "# Plotting multiple vectors, to display differences. Orange: origional [x,y], blue: rotated on point A\n",
    "plotMultiple([[xRot, yRot], [x, y]])"
   ]
  },
  {
   "cell_type": "markdown",
   "metadata": {},
   "source": [
    "\\section{Order of bend}\n",
    "In this section we're asked to show the equality of \n",
    "bend_a(bend_c(S)) = bend_c(bend_a(S))\n",
    "To do this, we take the definitions from the questions above and apply them like this:\n",
    "$$bend_a(bend_c(S)) = \\m{a|R_a b|R_a c|R_a (R_c d) }$$\n",
    "$$bend_c(bend_a(S)) = \\m{a|R_a b|R_a c|R_c (R_a d) }$$\n",
    "We see here that for all vectors, except for $d$, the bend results in the same, therefore we focus on the order of calculations for $\\overrightarrow{CP}$ here. Firstly we denote the two rotation matrices thus:\n",
    "$$R_a = \\m{c_a && -s_a \\\\ s_a && c_a}$$\n",
    "$$R_c =\\m{c_c && -s_c \\\\ s_c && c_c}$$\n",
    "This leaves us with the following matrix multiplication equations:\n",
    "$$ \\m{c_a && -s_a \\\\ s_a && c_a}\\m{c_c && -s_c \\\\ s_c && c_c}\\m{x\\\\y} = \\m{xc_ac_c - xs_as_c -yc_as_c-ys_ac_c\\\\ xs_ac_c+xc_as_c-ys_as_c+yc_ac_c}$$\n",
    "$$ \\m{c_c && -s_c \\\\ s_c && c_c}\\m{c_a && -s_a \\\\ s_a && c_a}\\m{x\\\\y} = \\m{xc_cc_a - xs_cs_a -yc_cs_a-ys_cc_a\\\\ xs_cc_a+xc_cs_a-ys_cs_a+yc_cc_a}$$\n",
    "We see now that the end product is the same for a double-rotation of $d$, not matter what order we multiply the rotation matrices onto our vector. "
   ]
  }
 ],
 "metadata": {
  "interpreter": {
   "hash": "aee8b7b246df8f9039afb4144a1f6fd8d2ca17a180786b69acc140d282b71a49"
  },
  "kernelspec": {
   "display_name": "Python 3.9.10 64-bit",
   "language": "python",
   "name": "python3"
  },
  "language_info": {
   "codemirror_mode": {
    "name": "ipython",
    "version": 3
   },
   "file_extension": ".py",
   "mimetype": "text/x-python",
   "name": "python",
   "nbconvert_exporter": "python",
   "pygments_lexer": "ipython3",
   "version": "3.10.2"
  },
  "orig_nbformat": 4
 },
 "nbformat": 4,
 "nbformat_minor": 2
}
