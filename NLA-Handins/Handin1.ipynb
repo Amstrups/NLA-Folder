{
 "cells": [
  {
   "cell_type": "code",
   "execution_count": 75,
   "metadata": {},
   "outputs": [
    {
     "name": "stdout",
     "output_type": "stream",
     "text": [
      "47.046471202117964\n",
      "19.952840347051684 22.810469514603827\n",
      "0.0\n",
      "([0.0, 10.0, 35.63074313602244, 34.017827484326105, 0.0], [0.0, 30.0, 0.0, 0.0, 0.0])\n",
      "47.04647120211796\n"
     ]
    },
    {
     "data": {
      "image/png": "[encoded data removed]",
      "text/plain": [
       "<Figure size 432x288 with 1 Axes>"
      ]
     },
     "metadata": {
      "needs_background": "light"
     },
     "output_type": "display_data"
    }
   ],
   "source": [
    "import numpy as np\n",
    "import matplotlib.pyplot as plt\n",
    "import math\n",
    "\n",
    "x = np.array([0.0, 10.0, 16.0, 17.5, 16.5])\n",
    "y = np.array([0.0, 30.0, 31.0, 25.5, 22.0])\n",
    "\n",
    "fig, ax = plt.subplots()\n",
    "\n",
    "axisLimit = 45\n",
    "\n",
    "plt.grid()\n",
    "plt.axis([-axisLimit, axisLimit,-axisLimit, axisLimit])\n",
    "ax.plot(x,y)\n",
    "\n",
    "def calcDist(start, end):\n",
    "    xVal = end[0]-start[0]\n",
    "    yVal = end[1]-start[1]\n",
    "    return  np.sqrt(xVal**2+yVal**2)\n",
    "\n",
    "def calcDistThroughPoints(xValues, yValues):\n",
    "    assert(len(xValues) == len(yValues))\n",
    "    result = 0\n",
    "    for i in range(1, len(xValues)):\n",
    "        result = result + calcDist([xValues[i-1], yValues[i-1]], [xValues[i], yValues[i]])\n",
    "    return result\n",
    "\n",
    "print(calcDistThroughPoints(x,y))\n",
    "\n",
    "rotationInDegrees = 45\n",
    "\n",
    "c, s = np.cos(rotationInDegrees), np.sin(rotationInDegrees)\n",
    "#c, s = 0.707, np.sqrt(0.707) #45degrees\n",
    "#c, s = 0, np.sqrt(1) #90degrees\n",
    "\n",
    "rotMatrix = np.array([[c, -s], [s, c]])\n",
    "\n",
    "\n",
    "xRot = x.copy()\n",
    "yRot = y.copy()\n",
    "\n",
    "dPoint = [xRot[4], yRot[4]]\n",
    "\n",
    "def rotationMaxtrixByDegrees(degrees): \n",
    "    c, s = np.cos(degrees), np.sin(degrees)\n",
    "    return np.array([[c, -s], [s, c]])\n",
    "\n",
    "#dRotated = rotMatrix @ dPoint\n",
    "def rotation(x,y,c,s):\n",
    "    return c*x-s*y, s*x+c*y\n",
    "\n",
    "def rotationByPoint(origon, target, degrees):\n",
    "    translated = [target[0]-origon[0], target[1]-origon[1]]\n",
    "    rotTranslated = rotationMaxtrixByDegrees(degrees) @ translated \n",
    "    return [rotTranslated[0]+origon[0], rotTranslated[1]+origon[1]]\n",
    "\n",
    "def rotationFromPoint(origonIndex, x, y, degrees):\n",
    "    assert(len(x) == len(y))\n",
    "    resultX = [0.0]*len(x)\n",
    "    resultY = [0.0]*len(y)\n",
    "    print(resultX[2])\n",
    "    for n in range(0, origonIndex+1):\n",
    "        resultX[n] = x[n]\n",
    "        resultY[n] = y[n]\n",
    "    for i in range(origonIndex+1, len(x)-1):\n",
    "        rotated = rotationByPoint([x[origonIndex], y[origonIndex]], [x[i], y[i]], degrees)\n",
    "        resultX[i] = rotated[0]\n",
    "        resultX[i] = rotated[1]\n",
    "    return resultX, resultY\n",
    "\n",
    "\n",
    "dRotatedByC = rotationByPoint([xRot[3], yRot[3]], [xRot[4],yRot[4]], 45)\n",
    "xRot[4] = dRotatedByC[0]\n",
    "yRot[4] = dRotatedByC[1]\n",
    "\n",
    "ax.plot(xRot, yRot)\n",
    "\n",
    "print(xRot[4], yRot[4])\n",
    "\n",
    "rotationOnA = rotationFromPoint(1, x,y, 45)\n",
    "print(rotationOnA)\n",
    "ax.plot(rotationOnA, rotationOnA)\n",
    "\n",
    "print(calcDistThroughPoints(xRot, yRot))"
   ]
  }
 ],
 "metadata": {
  "interpreter": {
   "hash": "aee8b7b246df8f9039afb4144a1f6fd8d2ca17a180786b69acc140d282b71a49"
  },
  "kernelspec": {
   "display_name": "Python 3.9.10 64-bit",
   "language": "python",
   "name": "python3"
  },
  "language_info": {
   "codemirror_mode": {
    "name": "ipython",
    "version": 3
   },
   "file_extension": ".py",
   "mimetype": "text/x-python",
   "name": "python",
   "nbconvert_exporter": "python",
   "pygments_lexer": "ipython3",
   "version": "3.9.10"
  },
  "orig_nbformat": 4
 },
 "nbformat": 4,
 "nbformat_minor": 2
}
