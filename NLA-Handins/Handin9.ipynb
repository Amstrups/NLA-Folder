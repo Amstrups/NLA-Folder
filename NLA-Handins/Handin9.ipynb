{
 "cells": [
  {
   "cell_type": "markdown",
   "metadata": {},
   "source": [
    "\\author{Christian Amstrup Petersen}\n",
    "By Christian Amstrup Petersen,\n",
    "Student number: 202104742\n",
    "\\appendix"
   ]
  },
  {
   "cell_type": "code",
   "execution_count": 11,
   "metadata": {},
   "outputs": [],
   "source": [
    "import numpy as np"
   ]
  },
  {
   "cell_type": "markdown",
   "metadata": {},
   "source": [
    "\\section{}"
   ]
  },
  {
   "cell_type": "markdown",
   "metadata": {},
   "source": [
    "\\section{Eigen, again}\n",
    "In the very classical way, we now wish to determine our eigenvalues and -vectors for the coefficientmatrix $A$, which is given by:\n",
    "$$A = \\begin{bmatrix} -0.15 && 0.15 \\\\ 0.15 && -0.45 \\end{bmatrix}$$\n",
    "Using definition 21.2, we get the following calculations for the eigenvalues:\n",
    "$$A -\\lambda I_2 = \\begin{bmatrix} -(0.15+\\lambda) && 0.15 \\\\ 0.15 && -(0.45+\\lambda) \\end{bmatrix}$$\n",
    "$$det(A -\\lambda I_2) = (-(0.15+\\lambda)(-(0.45+\\lambda)) - 0.15^2$$\n",
    "$$= \\lambda^2 + 0.6\\lambda + 0.045$$\n",
    "Now that we have the characteristic polynomium $p(A)$, we simply solve this polynomium to get our values.\n",
    "The roots for this, our eigenvalues, are then:\n",
    "$$roots(p(A)) = \\frac{-0.6 \\pm \\sqrt{0.6^2 - 4\\cdot0.045}}{2}$$\n",
    "$$= \\frac{-0.6 \\pm \\sqrt{0.18}}{2}$$\n",
    "Refactoring the expression, to using fractional numbers, we get\n",
    "$$= \\frac{-\\frac{6}{10} \\pm \\sqrt{\\frac{18}{100}}}{2} = \\frac{-\\frac{6}{10} \\pm \\frac{\\sqrt{2\\cdot3^2}}{\\sqrt{10^2}}}{2} = \\frac{\\frac{-6 \\pm 3\\sqrt{2}}{10}}{2} = \\frac{-6 \\pm 3\\sqrt{2}}{20}$$\n",
    "$$\\Longrightarrow \\lambda_0 = -\\frac{3}{20}\\sqrt{2} - \\frac{6}{20}, ~\\lambda_1 = \\frac{3}{20}\\sqrt{2} - \\frac{6}{20}$$"
   ]
  },
  {
   "cell_type": "markdown",
   "metadata": {},
   "source": [
    "Having our eigenvalues, we now want to look for the eigenvectors. Also doing this in our classical way, with 'række'-operations, we can construct the following equations. Starting with $\\lambda_0$:\n",
    "Firstly, we rewrite our $A$-matrix to for easier use with our rational numbers, in our eigenvalues, so:\n",
    "$$A =     \\begin{bmatrix}\n",
    "    -\\frac{3}{20}& \\frac{3}{20}\\\\\n",
    "    \\frac{3}{20} & -\\frac{9}{20}\n",
    "    \\end{bmatrix}\n",
    "    $$\n",
    "Then introducing $\\lambda_0$\n",
    "$$A - \\lambda_0 I_2 = \n",
    "\\begin{bmatrix}\n",
    "-\\frac{3}{20} - (-(\\frac{3}{20}\\sqrt{2} + \\frac{6}{20})) && \\frac{3}{20}\\\\\n",
    "\\frac{3}{20} && -\\frac{9}{20}-(-(\\frac{3}{20}\\sqrt{2} + \\frac{6}{20}))\n",
    "\\end{bmatrix}\n",
    "$$\n",
    "$$=\\begin{bmatrix}\n",
    "    \\frac{3}{20} + \\frac{3}{20}\\sqrt{2} & \\frac{3}{20})\\\\\n",
    "    \\frac{3}{20} &  \\frac{3}{20}\\sqrt{2}-\\frac{3}{20}\n",
    "\\end{bmatrix}$$\n",
    "Now wanting to convert the matrix to echelon-form, we start by switching $R_0$ and $R_1$, followed by multiplying the new $R_0$ with $20/3$. Which gives us\n",
    "$$\\sim\\begin{bmatrix}\n",
    "    1 &  \\sqrt{2} -1\\\\\n",
    "    \\frac{3}{20}(1 + \\sqrt{2}) & \\frac{3}{20} \n",
    "\\end{bmatrix}$$\n",
    "With these operations, we get a 1 that we can easily manipulate. Our next operation is then $R_1 = R_1 - (R_0 \\cdot \\frac{3}{20}(1 + \\sqrt{2})$:\n",
    "$$\\sim\\begin{bmatrix}\n",
    "    1 &  \\sqrt{2} -1\\\\\n",
    "    0 & \\frac{3}{20} - (\\sqrt{2}-1)(\\frac{3}{20}(1+\\sqrt{2}))\n",
    "\\end{bmatrix}$$\n",
    "$$= \\begin{bmatrix}\n",
    "    1 &  \\sqrt{2} -1\\\\\n",
    "    0 & 0\n",
    "\\end{bmatrix}$$\n",
    "As is tradition with Swann, for any free variables, we set its relevant value in the eigenvector, to 1, and the calculate from there. We now have to solve\n",
    "$$x + (\\sqrt{2}-1)y = 0$$\n",
    "$$\\Rightarrow x = (1-\\sqrt{2})y$$\n",
    "$$\\Rightarrow v_0 = \\begin{bmatrix} 1-\\sqrt{2} \\\\ 1 \\end{bmatrix}$$\n",
    "\n"
   ]
  },
  {
   "cell_type": "markdown",
   "metadata": {},
   "source": [
    "For $v_1$, we will go through the calculations, but just know that the process is the exact same, with very few alterations, and therefore will not be commented as heavily.\n",
    "So, introducing $\\lambda_1$\n",
    "$$A - \\lambda_1 I_2 = \n",
    "\\begin{bmatrix}\n",
    "-\\frac{3}{20} - (\\frac{3}{20}\\sqrt{2} - \\frac{6}{20}) && \\frac{3}{20}\\\\\n",
    "\\frac{3}{20} && -\\frac{9}{20}-(\\frac{3}{20}\\sqrt{2} - \\frac{6}{20})\n",
    "\\end{bmatrix}\n",
    "$$\n",
    "$$=\\begin{bmatrix}\n",
    "    =\\frac{3}{20} - \\frac{3}{20}\\sqrt{2} & \\frac{3}{20}\\\\\n",
    "    \\frac{3}{20} & -(\\frac{3}{20} + \\frac{3}{20}\\sqrt{2})\n",
    "\\end{bmatrix}$$\n",
    "Swithcing $R_0$ and $R_1$, and $R_0 = R_0 \\cdot \\frac{20}{3}$\n",
    "$$\\sim\\begin{bmatrix}\n",
    "    1 &  -(\\sqrt{2} +1)\\\\\n",
    "    \\frac{3}{20}(1 - \\sqrt{2}) & \\frac{3}{20} \n",
    "\\end{bmatrix}$$\n",
    "$R_1 = R_1 - (R_0 \\cdot \\frac{3}{20}(1 - \\sqrt{2}))$:\n",
    "$$\\sim\\begin{bmatrix}\n",
    "    1 &  -(\\sqrt{2} +1)\\\\\n",
    "    0 & \\frac{3}{20} - (\\sqrt{2}-1)(\\frac{3}{20}(1-\\sqrt{2}))\n",
    "\\end{bmatrix}$$\n",
    "$$= \\begin{bmatrix}\n",
    "    1 &  -(\\sqrt{2} +1)\\\\\n",
    "    0 & 0\n",
    "\\end{bmatrix}$$\n",
    "Setting free variables to 1, we're again left with\n",
    "$$x- (\\sqrt{2}+1)y = 0$$\n",
    "$$\\Rightarrow x = (\\sqrt{2}+1)y$$\n",
    "$$\\Rightarrow v_1 = \\begin{bmatrix} \\sqrt{2}+1 \\\\ 1 \\end{bmatrix}$$"
   ]
  },
  {
   "cell_type": "markdown",
   "metadata": {},
   "source": [
    "To summerize, we now know, for $A$, that\n",
    "$$\\lambda_0 = -\\frac{3}{20}\\sqrt{2} - \\frac{6}{20}, ~\\lambda_1 = \\frac{3}{20}\\sqrt{2} - \\frac{6}{20}$$\n",
    "and\n",
    "$$v_0 = \\begin{bmatrix} 1-\\sqrt{2} \\\\ 1 \\end{bmatrix}, v_1 = \\begin{bmatrix} \\sqrt{2}+1 \\\\ 1 \\end{bmatrix}"
   ]
  },
  {
   "cell_type": "code",
   "execution_count": 10,
   "metadata": {},
   "outputs": [
    {
     "data": {
      "text/plain": [
       "array([-0.51213203, -0.08786797])"
      ]
     },
     "execution_count": 10,
     "metadata": {},
     "output_type": "execute_result"
    }
   ],
   "source": [
    "np.roots([1, 0.6, 0.045])"
   ]
  }
 ],
 "metadata": {
  "interpreter": {
   "hash": "aee8b7b246df8f9039afb4144a1f6fd8d2ca17a180786b69acc140d282b71a49"
  },
  "kernelspec": {
   "display_name": "Python 3.9.10 64-bit",
   "language": "python",
   "name": "python3"
  },
  "language_info": {
   "codemirror_mode": {
    "name": "ipython",
    "version": 3
   },
   "file_extension": ".py",
   "mimetype": "text/x-python",
   "name": "python",
   "nbconvert_exporter": "python",
   "pygments_lexer": "ipython3",
   "version": "3.9.10"
  },
  "orig_nbformat": 4
 },
 "nbformat": 4,
 "nbformat_minor": 2
}
