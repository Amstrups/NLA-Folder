{
 "cells": [
  {
   "cell_type": "markdown",
   "metadata": {},
   "source": [
    "\\author{Christian Amstrup Petersen}\n",
    "By Christian Amstrup Petersen,\n",
    "Student number: 202104742\n",
    "\\appendix"
   ]
  },
  {
   "cell_type": "markdown",
   "metadata": {},
   "source": [
    "For this assignment, we provided with information about two tanks, connected to a series of pipes. Container $A$ can hold $300~l$, while container $B$, can hold $100~l$ (These refer to the figure given in the assignment). As a starting point, we also know that $A$ contains $90~g$ of salt, and $B$; $30~g$ of salt. Each minute, $30~l$ of clean water flows through pipe $a$ into $A$, and a salt/water-mixture flows from $B$, through $b$, at a rate of $15~l/min$."
   ]
  },
  {
   "cell_type": "markdown",
   "metadata": {},
   "source": [
    "\\section{Constant flow}\n",
    "To keep a constant amount of water in tank $A$, pipe $c$ will have to process $30+15 = 45~l$ of water, while pipe $d$ will have to remove $45-15 = 30~l$ of water, every minut, from the system, to keep the amount of water at a constant level in both tanks."
   ]
  },
  {
   "cell_type": "markdown",
   "metadata": {},
   "source": [
    "\\section{The system}\n",
    "We are given two equations:\n",
    "$$y'_0(t) = -0.15y_0(t)+0.15y_1(t)$$\n",
    "$$y'_1(t) = 0.15y_0(t)-0.45y_1(t)$$\n",
    "and asked to clarify that the salt amount $y_0(t)$ in $A$, and $y_1(t)$ in $B$, fulfills this system of equations.\n",
    "The given system is something we can easily rewrite to matrix and vector form, where it is equal to two vectors, and a coefficient matrix:\n",
    "$$\\begin{bmatrix} -0.15 && 0.15 \\\\ 0.15 && -0.45 \\end{bmatrix}\\begin{bmatrix} y_0(t) \\\\ y_1(t)\\end{bmatrix} = \\begin{bmatrix} y'_0(t) \\\\ y'_1(t)\\end{bmatrix}$$\n",
    "This coefficient matrix for the lineary transformation, looks extremely similary to the values, we are both given, and have calculated ourselves, in the assignment above. After any given minutes passed, denoted by $t$, we can get the acceleration of the salt supplied/removed (i.e how much salt is being added to a given tank, or removed). For $y'_0$, we're removing $15~l$ each minute and 'diluting' with $30~l$ of clean water, therefore removing $\\frac{15+45~l}{300~l}=15\\%$ of the remaining salt, and adding $\\frac{15~l}{100~l} = 15\\%$ of the remaing salt from tank $B$. For $y'_1$, we're adding the $15\\%$ of the remaining salt from tank $A$, and removing $45\\%$ from the remaining in tank $B$."
   ]
  },
  {
   "cell_type": "markdown",
   "metadata": {},
   "source": [
    "\\section{Eigen, again}\n",
    "In the very classical way, we now wish to determine our eigenvalues and -vectors for the coefficientmatrix $C$ (We've have sadly already used $A$ for... something), which is given by:\n",
    "$$C = \\begin{bmatrix} -0.15 && 0.15 \\\\ 0.15 && -0.45 \\end{bmatrix}$$\n",
    "Using definition 21.2, we get the following calculations for the eigenvalues:\n",
    "$$C -\\lambda I_2 = \\begin{bmatrix} -(0.15+\\lambda) && 0.15 \\\\ 0.15 && -(0.45+\\lambda) \\end{bmatrix}$$\n",
    "$$det(C -\\lambda I_2) = (-(0.15+\\lambda)(-(0.45+\\lambda)) - 0.15^2$$\n",
    "$$= \\lambda^2 + 0.6\\lambda + 0.045$$\n",
    "Now that we have the characteristic polynomium $p(C)$, we simply solve this polynomium to get our values.\n",
    "The roots for this, our eigenvalues, are then:\n",
    "$$roots(p(C)) = \\frac{-0.6 \\pm \\sqrt{0.6^2 - 4\\cdot0.045}}{2}$$\n",
    "$$= \\frac{-0.6 \\pm \\sqrt{0.18}}{2}$$\n",
    "Refactoring the expression, to using fractional numbers, we get\n",
    "$$= \\frac{-\\frac{6}{10} \\pm \\sqrt{\\frac{18}{100}}}{2} = \\frac{-\\frac{6}{10} \\pm \\frac{\\sqrt{2\\cdot3^2}}{\\sqrt{10^2}}}{2} = \\frac{\\frac{-6 \\pm 3\\sqrt{2}}{10}}{2} = \\frac{-6 \\pm 3\\sqrt{2}}{20}$$\n",
    "$$\\Longrightarrow \\lambda_0 = -\\frac{3}{20}\\sqrt{2} - \\frac{6}{20}, ~\\lambda_1 = \\frac{3}{20}\\sqrt{2} - \\frac{6}{20}$$"
   ]
  },
  {
   "cell_type": "markdown",
   "metadata": {},
   "source": [
    "Having our eigenvalues, we now want to look for the eigenvectors. Also doing this in our classical way, with 'række'-operations, we can construct the following equations. Starting with $\\lambda_0$:\n",
    "Firstly, we rewrite our $C$-matrix to for easier use with our rational numbers, in our eigenvalues, so:\n",
    "$$C =     \\begin{bmatrix}\n",
    "    -\\frac{3}{20}& \\frac{3}{20}\\\\\n",
    "    \\frac{3}{20} & -\\frac{9}{20}\n",
    "    \\end{bmatrix}\n",
    "    $$\n",
    "Then introducing $\\lambda_0$\n",
    "$$C - \\lambda_0 I_2 = \n",
    "\\begin{bmatrix}\n",
    "-\\frac{3}{20} - (-(\\frac{3}{20}\\sqrt{2} + \\frac{6}{20})) && \\frac{3}{20}\\\\\n",
    "\\frac{3}{20} && -\\frac{9}{20}-(-(\\frac{3}{20}\\sqrt{2} + \\frac{6}{20}))\n",
    "\\end{bmatrix}\n",
    "$$\n",
    "$$=\\begin{bmatrix}\n",
    "    \\frac{3}{20} + \\frac{3}{20}\\sqrt{2} & \\frac{3}{20})\\\\\n",
    "    \\frac{3}{20} &  \\frac{3}{20}\\sqrt{2}-\\frac{3}{20}\n",
    "\\end{bmatrix}$$\n",
    "Now wanting to convert the matrix to echelon-form, we start by switching $R_0$ and $R_1$, followed by multiplying the new $R_0$ with $20/3$. Which gives us\n",
    "$$\\sim\\begin{bmatrix}\n",
    "    1 &  \\sqrt{2} -1\\\\\n",
    "    \\frac{3}{20}(1 + \\sqrt{2}) & \\frac{3}{20} \n",
    "\\end{bmatrix}$$\n",
    "With these operations, we get a 1 that we can easily manipulate. Our next operation is then $R_1 = R_1 - (R_0 \\cdot \\frac{3}{20}(1 + \\sqrt{2})$:\n",
    "$$\\sim\\begin{bmatrix}\n",
    "    1 &  \\sqrt{2} -1\\\\\n",
    "    0 & \\frac{3}{20} - (\\sqrt{2}-1)(\\frac{3}{20}(1+\\sqrt{2}))\n",
    "\\end{bmatrix}$$\n",
    "$$= \\begin{bmatrix}\n",
    "    1 &  \\sqrt{2} -1\\\\\n",
    "    0 & 0\n",
    "\\end{bmatrix}$$\n",
    "As is tradition with Swann, for any free variables, we set its relevant value in the eigenvector, to 1, and the calculate from there. We now have to solve\n",
    "$$x + (\\sqrt{2}-1)y = 0$$\n",
    "$$\\Rightarrow x = (1-\\sqrt{2})y$$\n",
    "$$\\Rightarrow v_0 = \\begin{bmatrix} 1-\\sqrt{2} \\\\ 1 \\end{bmatrix}$$\n",
    "\n"
   ]
  },
  {
   "cell_type": "markdown",
   "metadata": {},
   "source": [
    "For $v_1$, we will go through the calculations, but just know that the process is the exact same, with very few alterations, and therefore will not be commented as heavily.\n",
    "So, introducing $\\lambda_1$\n",
    "$$C - \\lambda_1 I_2 = \n",
    "\\begin{bmatrix}\n",
    "-\\frac{3}{20} - (\\frac{3}{20}\\sqrt{2} - \\frac{6}{20}) && \\frac{3}{20}\\\\\n",
    "\\frac{3}{20} && -\\frac{9}{20}-(\\frac{3}{20}\\sqrt{2} - \\frac{6}{20})\n",
    "\\end{bmatrix}\n",
    "$$\n",
    "$$=\\begin{bmatrix}\n",
    "    =\\frac{3}{20} - \\frac{3}{20}\\sqrt{2} & \\frac{3}{20}\\\\\n",
    "    \\frac{3}{20} & -(\\frac{3}{20} + \\frac{3}{20}\\sqrt{2})\n",
    "\\end{bmatrix}$$\n",
    "Swithcing $R_0$ and $R_1$, and $R_0 = R_0 \\cdot \\frac{20}{3}$\n",
    "$$\\sim\\begin{bmatrix}\n",
    "    1 &  -(\\sqrt{2} +1)\\\\\n",
    "    \\frac{3}{20}(1 - \\sqrt{2}) & \\frac{3}{20} \n",
    "\\end{bmatrix}$$\n",
    "$R_1 = R_1 - (R_0 \\cdot \\frac{3}{20}(1 - \\sqrt{2}))$:\n",
    "$$\\sim\\begin{bmatrix}\n",
    "    1 &  -(\\sqrt{2} +1)\\\\\n",
    "    0 & \\frac{3}{20} - (\\sqrt{2}-1)(\\frac{3}{20}(1-\\sqrt{2}))\n",
    "\\end{bmatrix}$$\n",
    "$$= \\begin{bmatrix}\n",
    "    1 &  -(\\sqrt{2} +1)\\\\\n",
    "    0 & 0\n",
    "\\end{bmatrix}$$\n",
    "Setting free variables to 1, we're again left with\n",
    "$$x- (\\sqrt{2}+1)y = 0$$\n",
    "$$\\Rightarrow x = (\\sqrt{2}+1)y$$\n",
    "$$\\Rightarrow v_1 = \\begin{bmatrix} \\sqrt{2}+1 \\\\ 1 \\end{bmatrix}$$"
   ]
  },
  {
   "cell_type": "markdown",
   "metadata": {},
   "source": [
    "To summerize, we now know, for $A$, that\n",
    "$$\\lambda_0 = -\\frac{3}{20}\\sqrt{2} - \\frac{6}{20}, ~\\lambda_1 = \\frac{3}{20}\\sqrt{2} - \\frac{6}{20}$$\n",
    "and\n",
    "$$v_0 = \\begin{bmatrix} 1-\\sqrt{2} \\\\ 1 \\end{bmatrix}, v_1 = \\begin{bmatrix} \\sqrt{2}+1 \\\\ 1 \\end{bmatrix}$$"
   ]
  },
  {
   "cell_type": "markdown",
   "metadata": {},
   "source": [
    "\\section{The solutions}\n",
    "We know want to use our eigenvalues and -vectors, to provide a solution for $y(t)$, which is given by\n",
    "$$y(t)= \\begin{bmatrix} y_0(t) \\\\ y_1(t) \\end{bmatrix}$$\n",
    "The solution here is to be found in prop. 22.2, and using this structure, with our own values, so we get:\n",
    "$$y(t) = c_0  \\begin{bmatrix} 1-\\sqrt{2} \\\\ 1 \\end{bmatrix} e^{-(\\frac{3}{20}\\sqrt{2} + \\frac{6}{20})t}+ c_1 \\begin{bmatrix} \\sqrt{2}+1 \\\\ 1 \\end{bmatrix} e^{(\\frac{3}{20}\\sqrt{2} -\\frac{6}{20})t}$$"
   ]
  },
  {
   "cell_type": "markdown",
   "metadata": {},
   "source": [
    "Firstly we look for our constant $c$\n",
    "$$y(0) = c_0\\begin{bmatrix} 1-\\sqrt{2} \\\\ 1 \\end{bmatrix} + c_1\\begin{bmatrix} 1+\\sqrt{2} \\\\ 1 \\end{bmatrix} = \\begin{bmatrix} 1-\\sqrt{2}&& 1+\\sqrt{2} \\\\ 1 && 1\\end{bmatrix} \\begin{bmatrix} c_0 \\\\ c_1 \\end{bmatrix} = \\begin{bmatrix} 90 \\\\ 30 \\end{bmatrix}$$"
   ]
  },
  {
   "cell_type": "markdown",
   "metadata": {},
   "source": [
    "$$\\Longrightarrow c_0 = 15 - 15\\sqrt{2}, \\text{ and } c_1 = 15 + 15\\sqrt{2}$$"
   ]
  },
  {
   "cell_type": "markdown",
   "metadata": {},
   "source": [
    "Plotting this into our formula"
   ]
  },
  {
   "cell_type": "markdown",
   "metadata": {},
   "source": [
    "$$ = (15 - 15\\sqrt{2})\\begin{bmatrix} 1-\\sqrt{2} \\\\ 1 \\end{bmatrix} e^{-(\\frac{3}{20}\\sqrt{2} + \\frac{6}{20})t}+ (15 + 15\\sqrt{2})\\begin{bmatrix} \\sqrt{2}+1 \\\\ 1 \\end{bmatrix} e^{(\\frac{3}{20}\\sqrt{2} -\\frac{6}{20})t}$$"
   ]
  },
  {
   "cell_type": "markdown",
   "metadata": {},
   "source": [
    "$$ = \\begin{bmatrix} 15 \\\\ 15 - 15\\sqrt{2} \\end{bmatrix} e^{-(\\frac{3}{20}\\sqrt{2} + \\frac{6}{20})t}+ \\begin{bmatrix} 30\\sqrt{2}+45 \\\\ 15 + 15\\sqrt{2} \\end{bmatrix} e^{(\\frac{3}{20}\\sqrt{2} -\\frac{6}{20})t}$$"
   ]
  },
  {
   "cell_type": "markdown",
   "metadata": {},
   "source": [
    "$$ = \\begin{bmatrix} 15e^{-(\\frac{3}{20}\\sqrt{2} + \\frac{6}{20})t} \\\\ (15 - 15\\sqrt{2})e^{-(\\frac{3}{20}\\sqrt{2} + \\frac{6}{20})t} \\end{bmatrix} + \\begin{bmatrix} (30\\sqrt{2}+45)e^{(\\frac{3}{20}\\sqrt{2} -\\frac{6}{20})t} \\\\ (15 + 15\\sqrt{2})e^{(\\frac{3}{20}\\sqrt{2} -\\frac{6}{20})t} \\end{bmatrix} $$"
   ]
  },
  {
   "cell_type": "markdown",
   "metadata": {},
   "source": [
    "$$ = \\begin{bmatrix} 15e^{-(\\frac{3}{20}\\sqrt{2} + \\frac{6}{20})t}+(30\\sqrt{2}+45)e^{(\\frac{3}{20}\\sqrt{2} -\\frac{6}{20})t} \\\\ (15 - 15\\sqrt{2})e^{-(\\frac{3}{20}\\sqrt{2} + \\frac{6}{20})t} +(15 + 15\\sqrt{2})e^{(\\frac{3}{20}\\sqrt{2} -\\frac{6}{20})t}\\end{bmatrix} $$"
   ]
  },
  {
   "cell_type": "markdown",
   "metadata": {},
   "source": [
    "Refactoring the vector abit, we get\n",
    "$$ = \\begin{bmatrix} 15\\left(e^{-(\\frac{3}{20}\\sqrt{2} + \\frac{6}{20})t}+(2\\sqrt{2}+3)e^{(\\frac{3}{20}\\sqrt{2} -\\frac{6}{20})t}\\right) \\\\ 15\\left((1 - \\sqrt{2})e^{-(\\frac{3}{20}\\sqrt{2} + \\frac{6}{20})t} +(1 + \\sqrt{2})e^{(\\frac{3}{20}\\sqrt{2} -\\frac{6}{20})t}\\right)\\end{bmatrix} $$"
   ]
  },
  {
   "cell_type": "markdown",
   "metadata": {},
   "source": [
    "A very lovely result indeed."
   ]
  },
  {
   "cell_type": "markdown",
   "metadata": {},
   "source": [
    "\\section{What am I plotting?}\n",
    "Now, we turn our heads to python, and want to visualize the curve for $y_0(t)$ and $y_1(t)$"
   ]
  },
  {
   "cell_type": "code",
   "execution_count": 17,
   "metadata": {},
   "outputs": [
    {
     "data": {
      "text/plain": [
       "[<matplotlib.lines.Line2D at 0x1fa563fb070>]"
      ]
     },
     "execution_count": 17,
     "metadata": {},
     "output_type": "execute_result"
    },
    {
     "data": {
      "image/png": "[encoded data removed]",
      "text/plain": [
       "<Figure size 432x288 with 1 Axes>"
      ]
     },
     "metadata": {
      "needs_background": "light"
     },
     "output_type": "display_data"
    }
   ],
   "source": [
    "import matplotlib.pyplot as plt\n",
    "import numpy as np\n",
    "# Constants\n",
    "c0 = 15 - 15*np.sqrt(2)\n",
    "c1 = 15 + 15*np.sqrt(2)\n",
    "# Eigenvectors\n",
    "v0 = np.array([1.0-np.sqrt(2), 1.0])[:, np.newaxis]\n",
    "v1 = np.array([1.0+np.sqrt(2), 1.0])[:, np.newaxis]\n",
    "# Eigenvalues (Lambda_0 and Lambda_1)\n",
    "l0 = -((3.0*np.sqrt(2) / 20.0)+(6/20))\n",
    "l1 = (3.0*np.sqrt(2) / 20.0)-(6/20)\n",
    "t = np.linspace(0, 100, 100)\n",
    "# Calculation y(t)\n",
    "y = (c0 * v0 * np.exp(l0 * t)\n",
    "+ c1 * v1 * np.exp(l1 * t))\n",
    "fig, ax = plt.subplots()\n",
    "# Plotting y_0(t), marked with blue\n",
    "ax.plot(y[0], color='b',\n",
    "marker='o', markevery=5, markersize=4)\n",
    "# Plotting y_1(t), marked with red\n",
    "ax.plot(y[1], color='r',\n",
    "marker='o', markevery=5, markersize=4)\n"
   ]
  },
  {
   "cell_type": "markdown",
   "metadata": {},
   "source": [
    "When we continuously let $t$ go towards infinity, we can see that $y(t) move towards 0, and the tanks being almost emtied out for salt, but never actually hitting the 0%."
   ]
  },
  {
   "cell_type": "code",
   "execution_count": 20,
   "metadata": {},
   "outputs": [
    {
     "data": {
      "text/plain": [
       "[<matplotlib.lines.Line2D at 0x1fa56338160>]"
      ]
     },
     "execution_count": 20,
     "metadata": {},
     "output_type": "execute_result"
    },
    {
     "data": {
      "image/png": "[encoded data removed]",
      "text/plain": [
       "<Figure size 432x288 with 1 Axes>"
      ]
     },
     "metadata": {
      "needs_background": "light"
     },
     "output_type": "display_data"
    }
   ],
   "source": [
    "fig, ax = plt.subplots()\n",
    "# Plotting y_0(t) against y_1(t)\n",
    "ax.plot(*y, color='b',\n",
    "marker='o', markevery=5, markersize=4)"
   ]
  },
  {
   "cell_type": "markdown",
   "metadata": {},
   "source": []
  }
 ],
 "metadata": {
  "interpreter": {
   "hash": "aee8b7b246df8f9039afb4144a1f6fd8d2ca17a180786b69acc140d282b71a49"
  },
  "kernelspec": {
   "display_name": "Python 3.9.10 64-bit",
   "language": "python",
   "name": "python3"
  },
  "language_info": {
   "codemirror_mode": {
    "name": "ipython",
    "version": 3
   },
   "file_extension": ".py",
   "mimetype": "text/x-python",
   "name": "python",
   "nbconvert_exporter": "python",
   "pygments_lexer": "ipython3",
   "version": "3.9.10"
  },
  "orig_nbformat": 4
 },
 "nbformat": 4,
 "nbformat_minor": 2
}
