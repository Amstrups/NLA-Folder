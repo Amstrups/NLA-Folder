{
 "cells": [
  {
   "cell_type": "markdown",
   "metadata": {},
   "source": [
    "By: Christian Amstrup Petersen.\n",
    "Student number: 202104742\n",
    "\\appendix\n",
    "\\newcommand\\m[1]{\\begin{bmatrix}#1\\end{bmatrix}} "
   ]
  },
  {
   "cell_type": "code",
   "execution_count": 52,
   "metadata": {},
   "outputs": [],
   "source": [
    "import numpy as np\n",
    "import matplotlib.pyplot as plt  \n",
    "import matplotlib as mpl\n",
    "mpl.rcParams['lines.marker'] = 'o'\n",
    "\n",
    "# Variables to adjust grid size\n",
    "gridWidth = 5 \n",
    "gridHeight = 8\n",
    "\n",
    "# Resuable functions and variables\n",
    "\n",
    "# Plots the given x- and y-coordinates\n",
    "def plot(x,y, xLim=None, yLim=None):\n",
    "    fig, ax = plt.subplots(figsize=(gridWidth,gridHeight))\n",
    "    plt.grid()\n",
    "    if xLim != None:\n",
    "        plt.xlim(xLim[0], xLim[1])\n",
    "    if yLim != None:\n",
    "        plt.ylim(yLim[0], yLim[1])\n",
    "    ax.plot(x,y)\n",
    "\n",
    "# Plots multiple figures in the same plot/grid. Used for comparisson between a modified, and non-modified figure. If 'withLabels' is set to true, will include labels on each plot.\n",
    "# The parameter for this function should then be: (pointValuesList: [[x1, y1, label1], [x2, y2, label2], ... [x_n, y_n, label_n]], withLabels: True)\n",
    "def plotMultiple(pointValuesList, withLabels = False):\n",
    "    fig, ax = plt.subplots(figsize=(gridWidth,gridHeight))\n",
    "    plt.grid()\n",
    "    for values in pointValuesList:\n",
    "        if withLabels:\n",
    "            ax.plot(values[0], values[1], label=values[2])\n",
    "        else:\n",
    "            ax.plot(values[0], values[1])\n",
    "    ax.legend()"
   ]
  },
  {
   "cell_type": "markdown",
   "metadata": {},
   "source": [
    "\\section{The data}"
   ]
  },
  {
   "cell_type": "code",
   "execution_count": 21,
   "metadata": {},
   "outputs": [
    {
     "data": {
      "image/png": "[encoded data removed]",
      "text/plain": [
       "<Figure size 360x576 with 1 Axes>"
      ]
     },
     "metadata": {
      "needs_background": "light"
     },
     "output_type": "display_data"
    }
   ],
   "source": [
    "time = np.array([2.0, 5.0, 8.0, 10.0, 11.0])\n",
    "temperature = np.array([35.0, 40.0, 50.0, 65.0, 70.0])\n",
    "\n",
    "plot(time, temperature, [0, 15], [0, 80])"
   ]
  },
  {
   "cell_type": "markdown",
   "metadata": {},
   "source": [
    "\\section{The estimat}\n",
    "\n"
   ]
  },
  {
   "cell_type": "code",
   "execution_count": 80,
   "metadata": {},
   "outputs": [
    {
     "name": "stdout",
     "output_type": "stream",
     "text": [
      "[[  1.   8.  64.  50.]\n",
      " [  1.  10. 100.  65.]\n",
      " [  1.  11. 121.  70.]]\n"
     ]
    }
   ],
   "source": [
    "#Returns the vector representing p(x)\n",
    "def p(x):\n",
    "    return np.array([1, x, x**2])\n",
    "\n",
    "a = np.array([p(8.), p(10.), p(11.)])\n",
    "\n",
    "# Vector representing the values on the right-side, of the equations \n",
    "b = np.array([50., 65., 70.])[:, np.newaxis]\n",
    "\n",
    "#Extended matrix\n",
    "aeb = np.hstack([a, b])\n",
    "print(aeb)\n"
   ]
  },
  {
   "cell_type": "code",
   "execution_count": 69,
   "metadata": {},
   "outputs": [
    {
     "name": "stdout",
     "output_type": "stream",
     "text": [
      "[[  1.   8.  64.  50.]\n",
      " [  0.   2.  36.  15.]\n",
      " [  1.  11. 121.  70.]]\n",
      "[[ 1.  8. 64. 50.]\n",
      " [ 0.  2. 36. 15.]\n",
      " [ 0.  3. 57. 20.]]\n",
      "[[  1.   0. -80. -10.]\n",
      " [  0.   2.  36.  15.]\n",
      " [  0.   3.  57.  20.]]\n",
      "[[  1.    0.  -80.  -10. ]\n",
      " [  0.    1.   18.    7.5]\n",
      " [  0.    3.   57.   20. ]]\n",
      "[[  1.    0.  -80.  -10. ]\n",
      " [  0.    1.   18.    7.5]\n",
      " [  0.    0.    3.   -2.5]]\n",
      "[[  1.    0.  -80.  -10. ]\n",
      " [  0.    1.    0.   22.5]\n",
      " [  0.    0.    3.   -2.5]]\n",
      "[[  1.           0.         -80.         -10.        ]\n",
      " [  0.           1.           0.          22.5       ]\n",
      " [  0.           0.           1.          -0.83333333]]\n",
      "[[  1.           0.           0.         -76.66666667]\n",
      " [  0.           1.           0.          22.5       ]\n",
      " [  0.           0.           1.          -0.83333333]]\n",
      "x: [ 0  1  2  3  4  5  6  7  8  9 10 11 12 13 14]\n",
      "[-7.66666667e+01 -5.50000000e+01 -3.50000000e+01 -1.66666667e+01\n",
      "  1.06581410e-14  1.50000000e+01  2.83333333e+01  4.00000000e+01\n",
      "  5.00000000e+01  5.83333333e+01  6.50000000e+01  7.00000000e+01\n",
      "  7.33333333e+01  7.50000000e+01  7.50000000e+01]\n"
     ]
    },
    {
     "data": {
      "image/png": "[encoded data removed]",
      "text/plain": [
       "<Figure size 360x576 with 1 Axes>"
      ]
     },
     "metadata": {
      "needs_background": "light"
     },
     "output_type": "display_data"
    }
   ],
   "source": [
    "\n",
    "aeb = np.hstack([a, b])\n",
    "\n",
    "#R1 - R0\n",
    "aeb[1, :] -= aeb[0, :]\n",
    "\n",
    "print(aeb)\n",
    "\n",
    "#R2 - R0\n",
    "aeb[2, :] -= aeb[0, :]\n",
    "\n",
    "print(aeb)\n",
    "\n",
    "#R0 - 4*R1\n",
    "aeb[0, :] -= aeb[1,:]*4\n",
    "print(aeb)\n",
    "\n",
    "#R1 * 1/2\n",
    "aeb[1, :] *= (1/2)\n",
    "\n",
    "print(aeb)\n",
    "\n",
    "#R2 - 3*R1\n",
    "aeb[2, :] -= aeb[1,:]*3\n",
    "\n",
    "print(aeb)\n",
    "\n",
    "#R1 - 6*R2\n",
    "aeb[1, :] -= aeb[2,:]*6\n",
    "\n",
    "print(aeb)\n",
    "\n",
    "#R2 * 1/3\n",
    "aeb[2, :] *= (1/3)\n",
    "\n",
    "print(aeb)\n",
    "\n",
    "#R0 + R2*80\n",
    "aeb[0, :] += aeb[2, :]*80\n",
    "\n",
    "print(aeb)\n",
    "\n",
    "pValues = aeb[:, 3]\n",
    "\n",
    "\n",
    "def pDefinit(x):\n",
    "    return pValues[0] + pValues[1]*x + pValues[2]*x**2\n",
    "\n",
    "pDefVectorized = np.vectorize(pDefinit)\n",
    "\n",
    "#print(pDefinit(8))\n",
    "#print(pDefinit(10))\n",
    "\n",
    "x = np.arange(0, 15, 1)\n",
    "print(\"x:\", x)\n",
    "y = pDefVectorized(x)\n",
    "\n",
    "print(y)\n",
    "\n",
    "plot(x,y, [0,15], [0, 80])\n"
   ]
  },
  {
   "cell_type": "markdown",
   "metadata": {},
   "source": [
    "\\section{All points of data}"
   ]
  },
  {
   "cell_type": "code",
   "execution_count": 79,
   "metadata": {},
   "outputs": [
    {
     "name": "stdout",
     "output_type": "stream",
     "text": [
      "[35. 40. 50. 65. 70.]\n",
      "[[1.0000e+00 2.0000e+00 4.0000e+00 8.0000e+00 1.6000e+01]\n",
      " [1.0000e+00 5.0000e+00 2.5000e+01 1.2500e+02 6.2500e+02]\n",
      " [1.0000e+00 8.0000e+00 6.4000e+01 5.1200e+02 4.0960e+03]\n",
      " [1.0000e+00 1.0000e+01 1.0000e+02 1.0000e+03 1.0000e+04]\n",
      " [1.0000e+00 1.1000e+01 1.2100e+02 1.3310e+03 1.4641e+04]]\n",
      "[-1.97530864 32.85493827 -9.09722222  1.03395062 -0.03858025]\n"
     ]
    }
   ],
   "source": [
    "def p4(x):\n",
    "    return np.array([1, x, x**2,x**3,x**4])\n",
    "\n",
    "a = np.array([p4(2.), p4(5.), p4(8.), p4(10.), p4(11.)])\n",
    "\n",
    "print(temperature)\n",
    "\n",
    "print(a)\n",
    "\n",
    "res = np.linalg.solve(a, temperature)\n",
    "\n",
    "print(res)"
   ]
  },
  {
   "cell_type": "markdown",
   "metadata": {},
   "source": [
    "\\section{Multiple polynomiums}"
   ]
  },
  {
   "cell_type": "code",
   "execution_count": 84,
   "metadata": {},
   "outputs": [
    {
     "name": "stdout",
     "output_type": "stream",
     "text": [
      "[[ 1  5 25]\n",
      " [ 1  8 64]]\n"
     ]
    },
    {
     "ename": "LinAlgError",
     "evalue": "Last 2 dimensions of the array must be square",
     "output_type": "error",
     "traceback": [
      "\u001b[1;31m---------------------------------------------------------------------------\u001b[0m",
      "\u001b[1;31mLinAlgError\u001b[0m                               Traceback (most recent call last)",
      "\u001b[1;32mc:\\Users\\Christian's PC\\Desktop\\NLA-Folder\\NLA-Handins\\Handin3.ipynb Cell 11'\u001b[0m in \u001b[0;36m<module>\u001b[1;34m\u001b[0m\n\u001b[0;32m      <a href='vscode-notebook-cell:/c%3A/Users/Christian%27s%20PC/Desktop/NLA-Folder/NLA-Handins/Handin3.ipynb#ch0000009?line=1'>2</a>\u001b[0m p1_Results \u001b[39m=\u001b[39m np\u001b[39m.\u001b[39marray([\u001b[39m40.\u001b[39m, \u001b[39m50.\u001b[39m])\n\u001b[0;32m      <a href='vscode-notebook-cell:/c%3A/Users/Christian%27s%20PC/Desktop/NLA-Folder/NLA-Handins/Handin3.ipynb#ch0000009?line=3'>4</a>\u001b[0m \u001b[39mprint\u001b[39m(p1_Values)\n\u001b[1;32m----> <a href='vscode-notebook-cell:/c%3A/Users/Christian%27s%20PC/Desktop/NLA-Folder/NLA-Handins/Handin3.ipynb#ch0000009?line=5'>6</a>\u001b[0m \u001b[39mprint\u001b[39m(np\u001b[39m.\u001b[39;49mlinalg\u001b[39m.\u001b[39;49msolve(p1_Values, p1_Results))\n\u001b[0;32m      <a href='vscode-notebook-cell:/c%3A/Users/Christian%27s%20PC/Desktop/NLA-Folder/NLA-Handins/Handin3.ipynb#ch0000009?line=7'>8</a>\u001b[0m \u001b[39mdef\u001b[39;00m \u001b[39mp1\u001b[39m(x):\n\u001b[0;32m      <a href='vscode-notebook-cell:/c%3A/Users/Christian%27s%20PC/Desktop/NLA-Folder/NLA-Handins/Handin3.ipynb#ch0000009?line=8'>9</a>\u001b[0m     \u001b[39mreturn\u001b[39;00m \u001b[39mTrue\u001b[39;00m\n",
      "File \u001b[1;32m<__array_function__ internals>:180\u001b[0m, in \u001b[0;36msolve\u001b[1;34m(*args, **kwargs)\u001b[0m\n",
      "File \u001b[1;32m~\\AppData\\Local\\Packages\\PythonSoftwareFoundation.Python.3.10_qbz5n2kfra8p0\\LocalCache\\local-packages\\Python310\\site-packages\\numpy\\linalg\\linalg.py:380\u001b[0m, in \u001b[0;36msolve\u001b[1;34m(a, b)\u001b[0m\n\u001b[0;32m    <a href='file:///c%3A/Users/Christian%27s%20PC/AppData/Local/Packages/PythonSoftwareFoundation.Python.3.10_qbz5n2kfra8p0/LocalCache/local-packages/Python310/site-packages/numpy/linalg/linalg.py?line=377'>378</a>\u001b[0m a, _ \u001b[39m=\u001b[39m _makearray(a)\n\u001b[0;32m    <a href='file:///c%3A/Users/Christian%27s%20PC/AppData/Local/Packages/PythonSoftwareFoundation.Python.3.10_qbz5n2kfra8p0/LocalCache/local-packages/Python310/site-packages/numpy/linalg/linalg.py?line=378'>379</a>\u001b[0m _assert_stacked_2d(a)\n\u001b[1;32m--> <a href='file:///c%3A/Users/Christian%27s%20PC/AppData/Local/Packages/PythonSoftwareFoundation.Python.3.10_qbz5n2kfra8p0/LocalCache/local-packages/Python310/site-packages/numpy/linalg/linalg.py?line=379'>380</a>\u001b[0m _assert_stacked_square(a)\n\u001b[0;32m    <a href='file:///c%3A/Users/Christian%27s%20PC/AppData/Local/Packages/PythonSoftwareFoundation.Python.3.10_qbz5n2kfra8p0/LocalCache/local-packages/Python310/site-packages/numpy/linalg/linalg.py?line=380'>381</a>\u001b[0m b, wrap \u001b[39m=\u001b[39m _makearray(b)\n\u001b[0;32m    <a href='file:///c%3A/Users/Christian%27s%20PC/AppData/Local/Packages/PythonSoftwareFoundation.Python.3.10_qbz5n2kfra8p0/LocalCache/local-packages/Python310/site-packages/numpy/linalg/linalg.py?line=381'>382</a>\u001b[0m t, result_t \u001b[39m=\u001b[39m _commonType(a, b)\n",
      "File \u001b[1;32m~\\AppData\\Local\\Packages\\PythonSoftwareFoundation.Python.3.10_qbz5n2kfra8p0\\LocalCache\\local-packages\\Python310\\site-packages\\numpy\\linalg\\linalg.py:203\u001b[0m, in \u001b[0;36m_assert_stacked_square\u001b[1;34m(*arrays)\u001b[0m\n\u001b[0;32m    <a href='file:///c%3A/Users/Christian%27s%20PC/AppData/Local/Packages/PythonSoftwareFoundation.Python.3.10_qbz5n2kfra8p0/LocalCache/local-packages/Python310/site-packages/numpy/linalg/linalg.py?line=200'>201</a>\u001b[0m m, n \u001b[39m=\u001b[39m a\u001b[39m.\u001b[39mshape[\u001b[39m-\u001b[39m\u001b[39m2\u001b[39m:]\n\u001b[0;32m    <a href='file:///c%3A/Users/Christian%27s%20PC/AppData/Local/Packages/PythonSoftwareFoundation.Python.3.10_qbz5n2kfra8p0/LocalCache/local-packages/Python310/site-packages/numpy/linalg/linalg.py?line=201'>202</a>\u001b[0m \u001b[39mif\u001b[39;00m m \u001b[39m!=\u001b[39m n:\n\u001b[1;32m--> <a href='file:///c%3A/Users/Christian%27s%20PC/AppData/Local/Packages/PythonSoftwareFoundation.Python.3.10_qbz5n2kfra8p0/LocalCache/local-packages/Python310/site-packages/numpy/linalg/linalg.py?line=202'>203</a>\u001b[0m     \u001b[39mraise\u001b[39;00m LinAlgError(\u001b[39m'\u001b[39m\u001b[39mLast 2 dimensions of the array must be square\u001b[39m\u001b[39m'\u001b[39m)\n",
      "\u001b[1;31mLinAlgError\u001b[0m: Last 2 dimensions of the array must be square"
     ]
    }
   ],
   "source": [
    "p1_Values = np.array([p(5), p(8)])\n",
    "p1_Results = np.array([40., 50.])\n",
    "\n",
    "print(p1_Values)\n",
    "\n",
    "print(np.linalg.solve(p1_Values, p1_Results))\n",
    "\n",
    "def p1(x):\n",
    "    return True\n",
    "\n",
    "def p2(x):\n",
    "    return False\n",
    "\n",
    "def multiP(x):\n",
    "    return 0\n"
   ]
  }
 ],
 "metadata": {
  "interpreter": {
   "hash": "16a80f808ea653360c3afab78cb8c8742e517c13c21d786281c32d04e1a3b9c8"
  },
  "kernelspec": {
   "display_name": "Python 3.10.2 64-bit (windows store)",
   "language": "python",
   "name": "python3"
  },
  "language_info": {
   "codemirror_mode": {
    "name": "ipython",
    "version": 3
   },
   "file_extension": ".py",
   "mimetype": "text/x-python",
   "name": "python",
   "nbconvert_exporter": "python",
   "pygments_lexer": "ipython3",
   "version": "3.10.2"
  },
  "orig_nbformat": 4
 },
 "nbformat": 4,
 "nbformat_minor": 2
}
