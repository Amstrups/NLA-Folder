{
 "cells": [
  {
   "cell_type": "markdown",
   "metadata": {},
   "source": []
  },
  {
   "cell_type": "markdown",
   "metadata": {},
   "source": [
    "\n",
    "\n"
   ]
  },
  {
   "cell_type": "code",
   "execution_count": 38,
   "metadata": {},
   "outputs": [
    {
     "name": "stdout",
     "output_type": "stream",
     "text": [
      "[[ 6.123234e-17 -1.000000e+00]\n",
      " [ 1.000000e+00  6.123234e-17]]\n"
     ]
    },
    {
     "name": "stderr",
     "output_type": "stream",
     "text": [
      "/var/folders/qt/yhzfb9zj0x1bndhmm4y0ffr80000gp/T/ipykernel_31255/3494580046.py:28: VisibleDeprecationWarning: Creating an ndarray from ragged nested sequences (which is a list-or-tuple of lists-or-tuples-or ndarrays with different lengths or shapes) is deprecated. If you meant to do this, you must specify 'dtype=object' when creating the ndarray.\n",
      "  test = np.array([[1.5, rotated[0]], [1.5, rotated[1]]])\n"
     ]
    },
    {
     "data": {
      "text/plain": [
       "[<matplotlib.lines.Line2D at 0x1185bf3a0>]"
      ]
     },
     "execution_count": 38,
     "metadata": {},
     "output_type": "execute_result"
    },
    {
     "data": {
      "image/png": "[encoded data removed]",
      "text/plain": [
       "<Figure size 432x288 with 1 Axes>"
      ]
     },
     "metadata": {
      "needs_background": "light"
     },
     "output_type": "display_data"
    }
   ],
   "source": [
    "import numpy as np\n",
    "import matplotlib.pyplot as plt\n",
    "\n",
    "\n",
    "x = np.array([0.0, 3.0])\n",
    "y = np.array([0.0, 3.0])\n",
    "\n",
    "degreesToRotate = 90\n",
    "\n",
    "c, s = np.cos(np.radians(degreesToRotate)), np.sin(np.radians(degreesToRotate))\n",
    "\n",
    "rotMatrix = np.array([[c, -s], [s, c]])\n",
    "\n",
    "print(rotMatrix)\n",
    "\n",
    "#rotated = n ++ rotMatrix  @ [x[2], y[2]]\n",
    "\n",
    "fig, ax = plt.subplots()\n",
    "ax.plot(x,y)\n",
    "\n",
    "#newRotMatrix = np.array([[1.5], [1.5]]) @ rotMatrix\n",
    "\n",
    "rotated = rotMatrix @ [[x[1]],[y[1]]]\n",
    "\n",
    "# origo = np.array([[x[0]], [y[0]]])\n",
    "# print(\"Origo: \", origo)\n",
    "\n",
    "test = np.array([[1.5, rotated[0]], [1.5, rotated[1]]])\n",
    "\n",
    "ax.plot(test[0], test[1])\n",
    "\n",
    "\n",
    "# translated = origo @ rotMatrix\n",
    "# print(\"Translated: \", translated)\n",
    "# rotated = translated @ np.array([x[1]], [y[1]])\n",
    "\n",
    "# fullRotated = np.array([origo[0], rotated[0]], [origo[1], rotated[1]])\n",
    "\n",
    "# ax.plot(fullRotated[0], fullRotated[1])\n",
    "\n",
    "# xRot = x.copy()\n",
    "# yRot = y.copy()\n",
    "\n",
    "# xRot[2] = rotated[0]\n",
    "# yRot[2] = rotated[1]\n",
    "\n",
    "\n",
    "# ax.plot(x, y)\n",
    "# ax.plot(xRot, yRot)\n",
    "\n",
    "# defaultDist = np.sqrt(point[0]**2 + point[1]**2)\n",
    "# rotDist = np.sqrt(rotated[0]**2+rotated[1]**2)\n",
    "# */\n",
    "\n",
    "# def rotation(x,y,c,s):\n",
    "#     return c*x-s*y, s*x+c*y\n",
    "\n",
    "\n"
   ]
  },
  {
   "cell_type": "markdown",
   "metadata": {},
   "source": []
  }
 ],
 "metadata": {
  "interpreter": {
   "hash": "aee8b7b246df8f9039afb4144a1f6fd8d2ca17a180786b69acc140d282b71a49"
  },
  "kernelspec": {
   "display_name": "Python 3.9.10 64-bit",
   "language": "python",
   "name": "python3"
  },
  "language_info": {
   "codemirror_mode": {
    "name": "ipython",
    "version": 3
   },
   "file_extension": ".py",
   "mimetype": "text/x-python",
   "name": "python",
   "nbconvert_exporter": "python",
   "pygments_lexer": "ipython3",
   "version": "3.9.10"
  },
  "orig_nbformat": 4
 },
 "nbformat": 4,
 "nbformat_minor": 2
}
