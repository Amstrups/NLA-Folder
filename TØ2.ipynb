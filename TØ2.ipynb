{
 "cells": [
  {
   "cell_type": "code",
   "execution_count": 8,
   "metadata": {},
   "outputs": [],
   "source": [
    "import numpy as np\n",
    "import matplotlib.pyplot as plt\n",
    "\n",
    "x = np.array([1.0,-1.0])"
   ]
  },
  {
   "cell_type": "code",
   "execution_count": 39,
   "metadata": {},
   "outputs": [
    {
     "data": {
      "text/plain": [
       "array([1, 1, 7, 7, 1])"
      ]
     },
     "execution_count": 39,
     "metadata": {},
     "output_type": "execute_result"
    },
    {
     "data": {
      "image/png": "[encoded data removed]",
      "text/plain": [
       "<Figure size 432x288 with 1 Axes>"
      ]
     },
     "metadata": {
      "needs_background": "light"
     },
     "output_type": "display_data"
    }
   ],
   "source": [
    "x = np.array([1,1,7,7,1])\n",
    "y = np.array([1,5,5,1,1])\n",
    "\n",
    "fig, ax = plt.subplots()\n",
    "#ax.plot(x,y)\n",
    "\n",
    "#c, s = 0.707, np.sqrt(0.707) #45degrees\n",
    "c, s = 0, np.sqrt(1) #90degrees\n",
    "\n",
    "\n",
    "projectXBy = 4\n",
    "projectYBy = 3\n",
    "\n",
    "def project(x,y):\n",
    "    return x-projectXBy, y-projectYBy\n",
    "def projectBack(x,y):\n",
    "    return x+projectXBy, y+projectYBy\n",
    "\n",
    "def rotation(x,y,c,s):\n",
    "    return c*x-s*y, s*x+c*y\n",
    "\n",
    "def rotationOnCenter(x,y,c,s):\n",
    "    px, py = project(x,y)\n",
    "    rpx, rpy = rotation(px,py,c,s)\n",
    "    return (projectBack(rpx,rpy))\n",
    "\n",
    "r1x, r1y = rotation(x,y,c,s)\n",
    "r2x, r2y = rotation(r1x,r1y,c,s)\n",
    "p1x, p1y = project(x,y)\n",
    "rp1x, rp1y = rotationOnCenter(x,y,c,s)\n",
    "ax.plot(x,y)\n",
    "plt.grid()\n",
    "plt.axis([-10, 10, -10, 10])\n",
    "#ax.plot(r1x,r1y)\n",
    "#ax.plot(r2x,r2y)\n",
    "#ax.plot(p1x,p1y)\n",
    "ax.plot(rp1x,rp1y)"
   ]
  }
 ],
 "metadata": {
  "interpreter": {
   "hash": "aee8b7b246df8f9039afb4144a1f6fd8d2ca17a180786b69acc140d282b71a49"
  },
  "kernelspec": {
   "display_name": "Python 3.9.10 64-bit",
   "language": "python",
   "name": "python3"
  },
  "language_info": {
   "codemirror_mode": {
    "name": "ipython",
    "version": 3
   },
   "file_extension": ".py",
   "mimetype": "text/x-python",
   "name": "python",
   "nbconvert_exporter": "python",
   "pygments_lexer": "ipython3",
   "version": "3.9.10"
  },
  "orig_nbformat": 4
 },
 "nbformat": 4,
 "nbformat_minor": 2
}
